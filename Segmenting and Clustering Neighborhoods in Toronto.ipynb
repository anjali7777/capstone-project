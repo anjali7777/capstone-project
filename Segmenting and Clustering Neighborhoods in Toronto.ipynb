{
 "cells": [
  {
   "cell_type": "code",
   "execution_count": 1,
   "metadata": {},
   "outputs": [],
   "source": [
    "import pandas as pd"
   ]
  },
  {
   "cell_type": "markdown",
   "metadata": {},
   "source": [
    "## First Part"
   ]
  },
  {
   "cell_type": "code",
   "execution_count": 2,
   "metadata": {},
   "outputs": [],
   "source": [
    "d=pd.read_html('https://en.wikipedia.org/wiki/List_of_postal_codes_of_Canada:_M')"
   ]
  },
  {
   "cell_type": "code",
   "execution_count": 3,
   "metadata": {},
   "outputs": [
    {
     "data": {
      "text/plain": [
       "3"
      ]
     },
     "execution_count": 3,
     "metadata": {},
     "output_type": "execute_result"
    }
   ],
   "source": [
    "len(d)"
   ]
  },
  {
   "cell_type": "markdown",
   "metadata": {},
   "source": [
    "Scraped data has 3 table. Check the web page and get the collect table from data."
   ]
  },
  {
   "cell_type": "code",
   "execution_count": 4,
   "metadata": {},
   "outputs": [
    {
     "data": {
      "text/html": [
       "<div>\n",
       "<style scoped>\n",
       "    .dataframe tbody tr th:only-of-type {\n",
       "        vertical-align: middle;\n",
       "    }\n",
       "\n",
       "    .dataframe tbody tr th {\n",
       "        vertical-align: top;\n",
       "    }\n",
       "\n",
       "    .dataframe thead th {\n",
       "        text-align: right;\n",
       "    }\n",
       "</style>\n",
       "<table border=\"1\" class=\"dataframe\">\n",
       "  <thead>\n",
       "    <tr style=\"text-align: right;\">\n",
       "      <th></th>\n",
       "      <th>Postal Code</th>\n",
       "      <th>Borough</th>\n",
       "      <th>Neighborhood</th>\n",
       "    </tr>\n",
       "  </thead>\n",
       "  <tbody>\n",
       "    <tr>\n",
       "      <th>0</th>\n",
       "      <td>M1A</td>\n",
       "      <td>Not assigned</td>\n",
       "      <td>Not assigned</td>\n",
       "    </tr>\n",
       "    <tr>\n",
       "      <th>1</th>\n",
       "      <td>M2A</td>\n",
       "      <td>Not assigned</td>\n",
       "      <td>Not assigned</td>\n",
       "    </tr>\n",
       "    <tr>\n",
       "      <th>2</th>\n",
       "      <td>M3A</td>\n",
       "      <td>North York</td>\n",
       "      <td>Parkwoods</td>\n",
       "    </tr>\n",
       "    <tr>\n",
       "      <th>3</th>\n",
       "      <td>M4A</td>\n",
       "      <td>North York</td>\n",
       "      <td>Victoria Village</td>\n",
       "    </tr>\n",
       "    <tr>\n",
       "      <th>4</th>\n",
       "      <td>M5A</td>\n",
       "      <td>Downtown Toronto</td>\n",
       "      <td>Regent Park, Harbourfront</td>\n",
       "    </tr>\n",
       "  </tbody>\n",
       "</table>\n",
       "</div>"
      ],
      "text/plain": [
       "  Postal Code           Borough               Neighborhood\n",
       "0         M1A      Not assigned               Not assigned\n",
       "1         M2A      Not assigned               Not assigned\n",
       "2         M3A        North York                  Parkwoods\n",
       "3         M4A        North York           Victoria Village\n",
       "4         M5A  Downtown Toronto  Regent Park, Harbourfront"
      ]
     },
     "execution_count": 4,
     "metadata": {},
     "output_type": "execute_result"
    }
   ],
   "source": [
    "df=d[0]\n",
    "df.head()"
   ]
  },
  {
   "cell_type": "code",
   "execution_count": 5,
   "metadata": {},
   "outputs": [
    {
     "name": "stdout",
     "output_type": "stream",
     "text": [
      "<class 'pandas.core.frame.DataFrame'>\n",
      "RangeIndex: 180 entries, 0 to 179\n",
      "Data columns (total 3 columns):\n",
      " #   Column        Non-Null Count  Dtype \n",
      "---  ------        --------------  ----- \n",
      " 0   Postal Code   180 non-null    object\n",
      " 1   Borough       180 non-null    object\n",
      " 2   Neighborhood  180 non-null    object\n",
      "dtypes: object(3)\n",
      "memory usage: 4.3+ KB\n"
     ]
    }
   ],
   "source": [
    "df.info()"
   ]
  },
  {
   "cell_type": "code",
   "execution_count": 6,
   "metadata": {},
   "outputs": [
    {
     "data": {
      "text/html": [
       "<div>\n",
       "<style scoped>\n",
       "    .dataframe tbody tr th:only-of-type {\n",
       "        vertical-align: middle;\n",
       "    }\n",
       "\n",
       "    .dataframe tbody tr th {\n",
       "        vertical-align: top;\n",
       "    }\n",
       "\n",
       "    .dataframe thead th {\n",
       "        text-align: right;\n",
       "    }\n",
       "</style>\n",
       "<table border=\"1\" class=\"dataframe\">\n",
       "  <thead>\n",
       "    <tr style=\"text-align: right;\">\n",
       "      <th></th>\n",
       "      <th>Postal Code</th>\n",
       "      <th>Borough</th>\n",
       "      <th>Neighborhood</th>\n",
       "    </tr>\n",
       "  </thead>\n",
       "  <tbody>\n",
       "    <tr>\n",
       "      <th>2</th>\n",
       "      <td>M3A</td>\n",
       "      <td>North York</td>\n",
       "      <td>Parkwoods</td>\n",
       "    </tr>\n",
       "    <tr>\n",
       "      <th>3</th>\n",
       "      <td>M4A</td>\n",
       "      <td>North York</td>\n",
       "      <td>Victoria Village</td>\n",
       "    </tr>\n",
       "    <tr>\n",
       "      <th>4</th>\n",
       "      <td>M5A</td>\n",
       "      <td>Downtown Toronto</td>\n",
       "      <td>Regent Park, Harbourfront</td>\n",
       "    </tr>\n",
       "    <tr>\n",
       "      <th>5</th>\n",
       "      <td>M6A</td>\n",
       "      <td>North York</td>\n",
       "      <td>Lawrence Manor, Lawrence Heights</td>\n",
       "    </tr>\n",
       "    <tr>\n",
       "      <th>6</th>\n",
       "      <td>M7A</td>\n",
       "      <td>Downtown Toronto</td>\n",
       "      <td>Queen's Park, Ontario Provincial Government</td>\n",
       "    </tr>\n",
       "  </tbody>\n",
       "</table>\n",
       "</div>"
      ],
      "text/plain": [
       "  Postal Code           Borough                                 Neighborhood\n",
       "2         M3A        North York                                    Parkwoods\n",
       "3         M4A        North York                             Victoria Village\n",
       "4         M5A  Downtown Toronto                    Regent Park, Harbourfront\n",
       "5         M6A        North York             Lawrence Manor, Lawrence Heights\n",
       "6         M7A  Downtown Toronto  Queen's Park, Ontario Provincial Government"
      ]
     },
     "execution_count": 6,
     "metadata": {},
     "output_type": "execute_result"
    }
   ],
   "source": [
    "df_new=df[df['Borough']!='Not assigned']\n",
    "df_new.head()\n"
   ]
  },
  {
   "cell_type": "code",
   "execution_count": 7,
   "metadata": {},
   "outputs": [
    {
     "data": {
      "text/html": [
       "<div>\n",
       "<style scoped>\n",
       "    .dataframe tbody tr th:only-of-type {\n",
       "        vertical-align: middle;\n",
       "    }\n",
       "\n",
       "    .dataframe tbody tr th {\n",
       "        vertical-align: top;\n",
       "    }\n",
       "\n",
       "    .dataframe thead th {\n",
       "        text-align: right;\n",
       "    }\n",
       "</style>\n",
       "<table border=\"1\" class=\"dataframe\">\n",
       "  <thead>\n",
       "    <tr style=\"text-align: right;\">\n",
       "      <th></th>\n",
       "      <th>Postal Code</th>\n",
       "      <th>Borough</th>\n",
       "      <th>Neighborhood</th>\n",
       "    </tr>\n",
       "  </thead>\n",
       "  <tbody>\n",
       "    <tr>\n",
       "      <th>count</th>\n",
       "      <td>103</td>\n",
       "      <td>103</td>\n",
       "      <td>103</td>\n",
       "    </tr>\n",
       "    <tr>\n",
       "      <th>unique</th>\n",
       "      <td>103</td>\n",
       "      <td>10</td>\n",
       "      <td>99</td>\n",
       "    </tr>\n",
       "    <tr>\n",
       "      <th>top</th>\n",
       "      <td>M3M</td>\n",
       "      <td>North York</td>\n",
       "      <td>Downsview</td>\n",
       "    </tr>\n",
       "    <tr>\n",
       "      <th>freq</th>\n",
       "      <td>1</td>\n",
       "      <td>24</td>\n",
       "      <td>4</td>\n",
       "    </tr>\n",
       "  </tbody>\n",
       "</table>\n",
       "</div>"
      ],
      "text/plain": [
       "       Postal Code     Borough Neighborhood\n",
       "count          103         103          103\n",
       "unique         103          10           99\n",
       "top            M3M  North York    Downsview\n",
       "freq             1          24            4"
      ]
     },
     "execution_count": 7,
     "metadata": {},
     "output_type": "execute_result"
    }
   ],
   "source": [
    "df_new.describe()"
   ]
  },
  {
   "cell_type": "code",
   "execution_count": 8,
   "metadata": {},
   "outputs": [],
   "source": [
    "#df_new['Neighborhood'].describe()"
   ]
  },
  {
   "cell_type": "code",
   "execution_count": 9,
   "metadata": {},
   "outputs": [
    {
     "data": {
      "text/plain": [
       "count     103\n",
       "unique    103\n",
       "top       M3M\n",
       "freq        1\n",
       "Name: Postal Code, dtype: object"
      ]
     },
     "execution_count": 9,
     "metadata": {},
     "output_type": "execute_result"
    }
   ],
   "source": [
    "df_new['Postal Code'].describe()"
   ]
  },
  {
   "cell_type": "markdown",
   "metadata": {},
   "source": [
    "All postal code are unique. No need to merge anything"
   ]
  },
  {
   "cell_type": "code",
   "execution_count": 10,
   "metadata": {},
   "outputs": [
    {
     "data": {
      "text/html": [
       "<div>\n",
       "<style scoped>\n",
       "    .dataframe tbody tr th:only-of-type {\n",
       "        vertical-align: middle;\n",
       "    }\n",
       "\n",
       "    .dataframe tbody tr th {\n",
       "        vertical-align: top;\n",
       "    }\n",
       "\n",
       "    .dataframe thead th {\n",
       "        text-align: right;\n",
       "    }\n",
       "</style>\n",
       "<table border=\"1\" class=\"dataframe\">\n",
       "  <thead>\n",
       "    <tr style=\"text-align: right;\">\n",
       "      <th></th>\n",
       "      <th>Postal Code</th>\n",
       "      <th>Borough</th>\n",
       "      <th>Neighborhood</th>\n",
       "    </tr>\n",
       "  </thead>\n",
       "  <tbody>\n",
       "  </tbody>\n",
       "</table>\n",
       "</div>"
      ],
      "text/plain": [
       "Empty DataFrame\n",
       "Columns: [Postal Code, Borough, Neighborhood]\n",
       "Index: []"
      ]
     },
     "execution_count": 10,
     "metadata": {},
     "output_type": "execute_result"
    }
   ],
   "source": [
    "d=df_new[df_new['Neighborhood']=='Not assigned']\n",
    "d"
   ]
  },
  {
   "cell_type": "markdown",
   "metadata": {},
   "source": [
    "No neighborhood which is not assigned "
   ]
  },
  {
   "cell_type": "code",
   "execution_count": 11,
   "metadata": {},
   "outputs": [
    {
     "name": "stdout",
     "output_type": "stream",
     "text": [
      "The dataframe has 103 postal codes and 99 neighborhoods.\n"
     ]
    }
   ],
   "source": [
    "print('The dataframe has {} postal codes and {} neighborhoods.'.\n",
    "     format(df_new.shape[0],len(df_new['Neighborhood'].unique())))"
   ]
  },
  {
   "cell_type": "markdown",
   "metadata": {},
   "source": [
    "## Second part"
   ]
  },
  {
   "cell_type": "markdown",
   "metadata": {},
   "source": [
    "Let's load the values of latitudes and longitudes. "
   ]
  },
  {
   "cell_type": "code",
   "execution_count": 12,
   "metadata": {},
   "outputs": [],
   "source": [
    "data_lat=pd.read_csv('Geospatial_Coordinates.csv')"
   ]
  },
  {
   "cell_type": "code",
   "execution_count": 13,
   "metadata": {},
   "outputs": [
    {
     "data": {
      "text/html": [
       "<div>\n",
       "<style scoped>\n",
       "    .dataframe tbody tr th:only-of-type {\n",
       "        vertical-align: middle;\n",
       "    }\n",
       "\n",
       "    .dataframe tbody tr th {\n",
       "        vertical-align: top;\n",
       "    }\n",
       "\n",
       "    .dataframe thead th {\n",
       "        text-align: right;\n",
       "    }\n",
       "</style>\n",
       "<table border=\"1\" class=\"dataframe\">\n",
       "  <thead>\n",
       "    <tr style=\"text-align: right;\">\n",
       "      <th></th>\n",
       "      <th>Postal Code</th>\n",
       "      <th>Borough</th>\n",
       "      <th>Neighborhood</th>\n",
       "      <th>Latitude</th>\n",
       "      <th>Longitude</th>\n",
       "    </tr>\n",
       "  </thead>\n",
       "  <tbody>\n",
       "    <tr>\n",
       "      <th>0</th>\n",
       "      <td>M3A</td>\n",
       "      <td>North York</td>\n",
       "      <td>Parkwoods</td>\n",
       "      <td>43.753259</td>\n",
       "      <td>-79.329656</td>\n",
       "    </tr>\n",
       "    <tr>\n",
       "      <th>1</th>\n",
       "      <td>M4A</td>\n",
       "      <td>North York</td>\n",
       "      <td>Victoria Village</td>\n",
       "      <td>43.725882</td>\n",
       "      <td>-79.315572</td>\n",
       "    </tr>\n",
       "    <tr>\n",
       "      <th>2</th>\n",
       "      <td>M5A</td>\n",
       "      <td>Downtown Toronto</td>\n",
       "      <td>Regent Park, Harbourfront</td>\n",
       "      <td>43.654260</td>\n",
       "      <td>-79.360636</td>\n",
       "    </tr>\n",
       "    <tr>\n",
       "      <th>3</th>\n",
       "      <td>M6A</td>\n",
       "      <td>North York</td>\n",
       "      <td>Lawrence Manor, Lawrence Heights</td>\n",
       "      <td>43.718518</td>\n",
       "      <td>-79.464763</td>\n",
       "    </tr>\n",
       "    <tr>\n",
       "      <th>4</th>\n",
       "      <td>M7A</td>\n",
       "      <td>Downtown Toronto</td>\n",
       "      <td>Queen's Park, Ontario Provincial Government</td>\n",
       "      <td>43.662301</td>\n",
       "      <td>-79.389494</td>\n",
       "    </tr>\n",
       "  </tbody>\n",
       "</table>\n",
       "</div>"
      ],
      "text/plain": [
       "  Postal Code           Borough                                 Neighborhood  \\\n",
       "0         M3A        North York                                    Parkwoods   \n",
       "1         M4A        North York                             Victoria Village   \n",
       "2         M5A  Downtown Toronto                    Regent Park, Harbourfront   \n",
       "3         M6A        North York             Lawrence Manor, Lawrence Heights   \n",
       "4         M7A  Downtown Toronto  Queen's Park, Ontario Provincial Government   \n",
       "\n",
       "    Latitude  Longitude  \n",
       "0  43.753259 -79.329656  \n",
       "1  43.725882 -79.315572  \n",
       "2  43.654260 -79.360636  \n",
       "3  43.718518 -79.464763  \n",
       "4  43.662301 -79.389494  "
      ]
     },
     "execution_count": 13,
     "metadata": {},
     "output_type": "execute_result"
    }
   ],
   "source": [
    "df_final=pd.merge(df_new,data_lat,how='inner')\n",
    "df_final.head()"
   ]
  },
  {
   "cell_type": "markdown",
   "metadata": {},
   "source": [
    "## Third part"
   ]
  },
  {
   "cell_type": "code",
   "execution_count": 14,
   "metadata": {},
   "outputs": [],
   "source": [
    "import numpy as np # library to handle data in a vectorized manner\n",
    "\n",
    "import json # library to handle JSON files\n",
    "\n",
    "#!conda install -c conda-forge geopy --yes\n",
    "from geopy.geocoders import Nominatim # convert an address into latitude and longitude values\n",
    "\n",
    "import requests # library to handle requests\n",
    "from pandas.io.json import json_normalize # tranform JSON file into a pandas dataframe\n",
    "\n",
    "# Matplotlib and associated plotting modules\n",
    "import matplotlib.cm as cm\n",
    "import matplotlib.colors as colors\n",
    "\n",
    "# import k-means from clustering stage\n",
    "from sklearn.cluster import KMeans\n",
    "\n",
    "import folium # map rendering library"
   ]
  },
  {
   "cell_type": "code",
   "execution_count": 48,
   "metadata": {},
   "outputs": [],
   "source": [
    "#df_final['Borough'].unique()"
   ]
  },
  {
   "cell_type": "markdown",
   "metadata": {},
   "source": [
    "Use geopy library to get the latitude and longitude values of Toronto."
   ]
  },
  {
   "cell_type": "code",
   "execution_count": 15,
   "metadata": {},
   "outputs": [
    {
     "name": "stdout",
     "output_type": "stream",
     "text": [
      "The geograpical coordinate of Toronto are 43.6534817, -79.3839347.\n"
     ]
    }
   ],
   "source": [
    "address = 'Toronto'\n",
    "\n",
    "geolocator = Nominatim(user_agent=\"ny_explorer\")\n",
    "location = geolocator.geocode(address)\n",
    "latitude = location.latitude\n",
    "longitude = location.longitude\n",
    "print('The geograpical coordinate of Toronto are {}, {}.'.format(latitude, longitude))"
   ]
  },
  {
   "cell_type": "markdown",
   "metadata": {},
   "source": [
    "Create a map of Toronto with neighborhoods superimposed on top."
   ]
  },
  {
   "cell_type": "code",
   "execution_count": 16,
   "metadata": {},
   "outputs": [
    {
     "data": {
      "text/html": [
       "<div style=\"width:100%;\"><div style=\"position:relative;width:100%;height:0;padding-bottom:60%;\"><span style=\"color:#565656\">Make this Notebook Trusted to load map: File -> Trust Notebook</span><iframe src=\"about:blank\" style=\"position:absolute;width:100%;height:100%;left:0;top:0;border:none !important;\" data-html=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 onload=\"this.contentDocument.open();this.contentDocument.write(atob(this.getAttribute('data-html')));this.contentDocument.close();\" allowfullscreen webkitallowfullscreen mozallowfullscreen></iframe></div></div>"
      ],
      "text/plain": [
       "<folium.folium.Map at 0x1b24420cc48>"
      ]
     },
     "execution_count": 16,
     "metadata": {},
     "output_type": "execute_result"
    }
   ],
   "source": [
    "# create map of Toronto using latitude and longitude values\n",
    "map_toronto = folium.Map(location=[latitude, longitude], zoom_start=10)\n",
    "\n",
    "# add markers to map\n",
    "for lat, lng, borough, neighborhood in zip(df_final['Latitude'], df_final['Longitude'], df_final['Borough'], df_final['Neighborhood']):\n",
    "    label = '{}, {}'.format(neighborhood, borough)\n",
    "    label = folium.Popup(label, parse_html=True)\n",
    "    folium.CircleMarker(\n",
    "        [lat, lng],\n",
    "        radius=5,\n",
    "        popup=label,\n",
    "        color='blue',\n",
    "        fill=True,\n",
    "        fill_color='#3186cc',\n",
    "        fill_opacity=0.7,\n",
    "        parse_html=False).add_to(map_toronto)  \n",
    "    \n",
    "map_toronto"
   ]
  },
  {
   "cell_type": "markdown",
   "metadata": {},
   "source": [
    "Folium is a great visualization library. Feel free to zoom into the above map, and click on each circle mark to reveal the name of the neighborhood and its respective borough.\n",
    "\n",
    "Llet's simplify the above map and segment and cluster only the neighborhoods in York. So let's slice the original dataframe and create a new dataframe of the York data."
   ]
  },
  {
   "cell_type": "code",
   "execution_count": 17,
   "metadata": {},
   "outputs": [
    {
     "data": {
      "text/html": [
       "<div>\n",
       "<style scoped>\n",
       "    .dataframe tbody tr th:only-of-type {\n",
       "        vertical-align: middle;\n",
       "    }\n",
       "\n",
       "    .dataframe tbody tr th {\n",
       "        vertical-align: top;\n",
       "    }\n",
       "\n",
       "    .dataframe thead th {\n",
       "        text-align: right;\n",
       "    }\n",
       "</style>\n",
       "<table border=\"1\" class=\"dataframe\">\n",
       "  <thead>\n",
       "    <tr style=\"text-align: right;\">\n",
       "      <th></th>\n",
       "      <th>Postal Code</th>\n",
       "      <th>Borough</th>\n",
       "      <th>Neighborhood</th>\n",
       "      <th>Latitude</th>\n",
       "      <th>Longitude</th>\n",
       "    </tr>\n",
       "  </thead>\n",
       "  <tbody>\n",
       "    <tr>\n",
       "      <th>0</th>\n",
       "      <td>M6C</td>\n",
       "      <td>York</td>\n",
       "      <td>Humewood-Cedarvale</td>\n",
       "      <td>43.693781</td>\n",
       "      <td>-79.428191</td>\n",
       "    </tr>\n",
       "    <tr>\n",
       "      <th>1</th>\n",
       "      <td>M6E</td>\n",
       "      <td>York</td>\n",
       "      <td>Caledonia-Fairbanks</td>\n",
       "      <td>43.689026</td>\n",
       "      <td>-79.453512</td>\n",
       "    </tr>\n",
       "    <tr>\n",
       "      <th>2</th>\n",
       "      <td>M6M</td>\n",
       "      <td>York</td>\n",
       "      <td>Del Ray, Mount Dennis, Keelsdale and Silverthorn</td>\n",
       "      <td>43.691116</td>\n",
       "      <td>-79.476013</td>\n",
       "    </tr>\n",
       "    <tr>\n",
       "      <th>3</th>\n",
       "      <td>M6N</td>\n",
       "      <td>York</td>\n",
       "      <td>Runnymede, The Junction North</td>\n",
       "      <td>43.673185</td>\n",
       "      <td>-79.487262</td>\n",
       "    </tr>\n",
       "    <tr>\n",
       "      <th>4</th>\n",
       "      <td>M9N</td>\n",
       "      <td>York</td>\n",
       "      <td>Weston</td>\n",
       "      <td>43.706876</td>\n",
       "      <td>-79.518188</td>\n",
       "    </tr>\n",
       "  </tbody>\n",
       "</table>\n",
       "</div>"
      ],
      "text/plain": [
       "  Postal Code Borough                                      Neighborhood  \\\n",
       "0         M6C    York                                Humewood-Cedarvale   \n",
       "1         M6E    York                               Caledonia-Fairbanks   \n",
       "2         M6M    York  Del Ray, Mount Dennis, Keelsdale and Silverthorn   \n",
       "3         M6N    York                     Runnymede, The Junction North   \n",
       "4         M9N    York                                            Weston   \n",
       "\n",
       "    Latitude  Longitude  \n",
       "0  43.693781 -79.428191  \n",
       "1  43.689026 -79.453512  \n",
       "2  43.691116 -79.476013  \n",
       "3  43.673185 -79.487262  \n",
       "4  43.706876 -79.518188  "
      ]
     },
     "execution_count": 17,
     "metadata": {},
     "output_type": "execute_result"
    }
   ],
   "source": [
    "york_data = df_final[df_final['Borough'] == 'York'].reset_index(drop=True)\n",
    "york_data.head()"
   ]
  },
  {
   "cell_type": "code",
   "execution_count": 18,
   "metadata": {},
   "outputs": [
    {
     "name": "stdout",
     "output_type": "stream",
     "text": [
      "The geograpical coordinate of York are 43.6896191, -79.479188.\n"
     ]
    }
   ],
   "source": [
    "#Let's get the geographical coordinates of York.\n",
    "address = 'York, Toronto'\n",
    "\n",
    "geolocator = Nominatim(user_agent=\"ny_explorer\")\n",
    "location = geolocator.geocode(address)\n",
    "latitude = location.latitude\n",
    "longitude = location.longitude\n",
    "print('The geograpical coordinate of York are {}, {}.'.format(latitude, longitude))"
   ]
  },
  {
   "cell_type": "code",
   "execution_count": 16,
   "metadata": {},
   "outputs": [
    {
     "data": {
      "text/html": [
       "<div style=\"width:100%;\"><div style=\"position:relative;width:100%;height:0;padding-bottom:60%;\"><span style=\"color:#565656\">Make this Notebook Trusted to load map: File -> Trust Notebook</span><iframe src=\"about:blank\" style=\"position:absolute;width:100%;height:100%;left:0;top:0;border:none !important;\" data-html=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 onload=\"this.contentDocument.open();this.contentDocument.write(atob(this.getAttribute('data-html')));this.contentDocument.close();\" allowfullscreen webkitallowfullscreen mozallowfullscreen></iframe></div></div>"
      ],
      "text/plain": [
       "<folium.folium.Map at 0x1dbb5bc7408>"
      ]
     },
     "execution_count": 16,
     "metadata": {},
     "output_type": "execute_result"
    }
   ],
   "source": [
    "#let's visualizat York the neighborhoods in it.\n",
    "map_york = folium.Map(location=[latitude, longitude], zoom_start=11)\n",
    "\n",
    "# add markers to map\n",
    "for lat, lng, label in zip(york_data['Latitude'], york_data['Longitude'], york_data['Neighborhood']):\n",
    "    label = folium.Popup(label, parse_html=True)\n",
    "    folium.CircleMarker(\n",
    "        [lat, lng],\n",
    "        radius=5,\n",
    "        popup=label,\n",
    "        color='blue',\n",
    "        fill=True,\n",
    "        fill_color='#3186cc',\n",
    "        fill_opacity=0.7,\n",
    "        parse_html=False).add_to(map_york)  \n",
    "    \n",
    "map_york"
   ]
  },
  {
   "cell_type": "markdown",
   "metadata": {},
   "source": [
    "Next, we are going to start utilizing the Foursquare API to explore the neighborhoods and segment them.\n",
    "\n"
   ]
  },
  {
   "cell_type": "code",
   "execution_count": 19,
   "metadata": {},
   "outputs": [],
   "source": [
    "CLIENT_ID = 'VT5DTAMJ3XFEBH5LMV441H5FYK4DWQ4IJ1RQ2H5RNP1FHLQY' \n",
    "CLIENT_SECRET = 'EQEYMPHSHBO1ADOZVKKDHRLN4HFW2P2BKKF1S24AZSTDMNLY' \n",
    "VERSION = '20180605' "
   ]
  },
  {
   "cell_type": "code",
   "execution_count": 20,
   "metadata": {},
   "outputs": [
    {
     "data": {
      "text/plain": [
       "'Humewood-Cedarvale'"
      ]
     },
     "execution_count": 20,
     "metadata": {},
     "output_type": "execute_result"
    }
   ],
   "source": [
    "york_data.loc[0,'Neighborhood']"
   ]
  },
  {
   "cell_type": "code",
   "execution_count": 21,
   "metadata": {},
   "outputs": [
    {
     "name": "stdout",
     "output_type": "stream",
     "text": [
      "Latitude and longitude values of Humewood-Cedarvale are 43.6937813, -79.42819140000002.\n"
     ]
    }
   ],
   "source": [
    "neighborhood_latitude = york_data.loc[0, 'Latitude'] # neighborhood latitude value\n",
    "neighborhood_longitude = york_data.loc[0, 'Longitude'] # neighborhood longitude value\n",
    "\n",
    "neighborhood_name = york_data.loc[0, 'Neighborhood'] # neighborhood name\n",
    "\n",
    "print('Latitude and longitude values of {} are {}, {}.'.format(neighborhood_name, \n",
    "                                                               neighborhood_latitude, \n",
    "                                                               neighborhood_longitude))"
   ]
  },
  {
   "cell_type": "markdown",
   "metadata": {},
   "source": [
    "Now, let's get the top 100 venues that are in Humewood-Cedarvale within a radius of 500 meters.\n"
   ]
  },
  {
   "cell_type": "code",
   "execution_count": 22,
   "metadata": {},
   "outputs": [],
   "source": [
    "LIMIT = 100 # limit of number of venues returned by Foursquare API\n",
    "\n",
    "radius = 500 # define radius\n",
    "\n",
    "url = 'https://api.foursquare.com/v2/venues/explore?&client_id={}&client_secret={}&v={}&ll={},{}&radius={}&limit={}'.format(\n",
    "    CLIENT_ID, \n",
    "    CLIENT_SECRET, \n",
    "    VERSION, \n",
    "    neighborhood_latitude, \n",
    "    neighborhood_longitude, \n",
    "    radius, \n",
    "    LIMIT)\n"
   ]
  },
  {
   "cell_type": "code",
   "execution_count": 23,
   "metadata": {},
   "outputs": [],
   "source": [
    "results = requests.get(url).json()\n",
    "#results"
   ]
  },
  {
   "cell_type": "markdown",
   "metadata": {},
   "source": [
    "From the previous module, we know that all the information is in the *items* key. Before we proceed, let's borrow the **get_category_type** function from the Foursquare lab."
   ]
  },
  {
   "cell_type": "code",
   "execution_count": 24,
   "metadata": {},
   "outputs": [],
   "source": [
    "# function that extracts the category of the venue\n",
    "def get_category_type(row):\n",
    "    try:\n",
    "        categories_list = row['categories']\n",
    "    except:\n",
    "        categories_list = row['venue.categories']\n",
    "        \n",
    "    if len(categories_list) == 0:\n",
    "        return None\n",
    "    else:\n",
    "        return categories_list[0]['name']"
   ]
  },
  {
   "cell_type": "markdown",
   "metadata": {},
   "source": [
    "Now we are ready to clean the json and structure it into a pandas dataframe."
   ]
  },
  {
   "cell_type": "code",
   "execution_count": 25,
   "metadata": {},
   "outputs": [
    {
     "name": "stderr",
     "output_type": "stream",
     "text": [
      "C:\\Users\\KIIT\\anaconda3\\lib\\site-packages\\ipykernel_launcher.py:3: FutureWarning: pandas.io.json.json_normalize is deprecated, use pandas.json_normalize instead\n",
      "  This is separate from the ipykernel package so we can avoid doing imports until\n"
     ]
    }
   ],
   "source": [
    "venues = results['response']['groups'][0]['items']\n",
    "    \n",
    "nearby_venues = json_normalize(venues) # flatten JSON\n",
    "\n",
    "# filter columns\n",
    "filtered_columns = ['venue.name', 'venue.categories', 'venue.location.lat', 'venue.location.lng']\n",
    "nearby_venues =nearby_venues.loc[:, filtered_columns]\n",
    "\n",
    "# filter the category for each row\n",
    "nearby_venues['venue.categories'] = nearby_venues.apply(get_category_type, axis=1)\n",
    "\n",
    "# clean columns\n",
    "nearby_venues.columns = [col.split(\".\")[-1] for col in nearby_venues.columns]\n",
    "\n",
    "#nearby_venues.head()"
   ]
  },
  {
   "cell_type": "code",
   "execution_count": 26,
   "metadata": {},
   "outputs": [
    {
     "name": "stdout",
     "output_type": "stream",
     "text": [
      "4 venues were returned by Foursquare.\n"
     ]
    }
   ],
   "source": [
    "print('{} venues were returned by Foursquare.'.format(nearby_venues.shape[0]))"
   ]
  },
  {
   "cell_type": "markdown",
   "metadata": {},
   "source": [
    "Let's create a function to repeat the same process to all the neighborhoods in York"
   ]
  },
  {
   "cell_type": "code",
   "execution_count": 27,
   "metadata": {},
   "outputs": [],
   "source": [
    "def getNearbyVenues(names, latitudes, longitudes, radius=500):\n",
    "    \n",
    "    venues_list=[]\n",
    "    for name, lat, lng in zip(names, latitudes, longitudes):\n",
    "        print(name)\n",
    "            \n",
    "        # create the API request URL\n",
    "        url = 'https://api.foursquare.com/v2/venues/explore?&client_id={}&client_secret={}&v={}&ll={},{}&radius={}&limit={}'.format(\n",
    "            CLIENT_ID, \n",
    "            CLIENT_SECRET, \n",
    "            VERSION, \n",
    "            lat, \n",
    "            lng, \n",
    "            radius, \n",
    "            LIMIT)\n",
    "            \n",
    "        # make the GET request\n",
    "        results = requests.get(url).json()[\"response\"]['groups'][0]['items']\n",
    "        \n",
    "        # return only relevant information for each nearby venue\n",
    "        venues_list.append([(\n",
    "            name, \n",
    "            lat, \n",
    "            lng, \n",
    "            v['venue']['name'], \n",
    "            v['venue']['location']['lat'], \n",
    "            v['venue']['location']['lng'],  \n",
    "            v['venue']['categories'][0]['name']) for v in results])\n",
    "\n",
    "    nearby_venues = pd.DataFrame([item for venue_list in venues_list for item in venue_list])\n",
    "    nearby_venues.columns = ['Neighborhood', \n",
    "                  'Neighborhood Latitude', \n",
    "                  'Neighborhood Longitude', \n",
    "                  'Venue', \n",
    "                  'Venue Latitude', \n",
    "                  'Venue Longitude', \n",
    "                  'Venue Category']\n",
    "    \n",
    "    return(nearby_venues)"
   ]
  },
  {
   "cell_type": "markdown",
   "metadata": {},
   "source": [
    "Now write the code to run the above function on each neighborhood and create a new dataframe called york_venues."
   ]
  },
  {
   "cell_type": "code",
   "execution_count": 28,
   "metadata": {},
   "outputs": [
    {
     "name": "stdout",
     "output_type": "stream",
     "text": [
      "Humewood-Cedarvale\n",
      "Caledonia-Fairbanks\n",
      "Del Ray, Mount Dennis, Keelsdale and Silverthorn\n",
      "Runnymede, The Junction North\n",
      "Weston\n"
     ]
    }
   ],
   "source": [
    "york_venues = getNearbyVenues(names=york_data['Neighborhood'],\n",
    "                                   latitudes=york_data['Latitude'],\n",
    "                                   longitudes=york_data['Longitude']\n",
    "                                  )"
   ]
  },
  {
   "cell_type": "code",
   "execution_count": 29,
   "metadata": {},
   "outputs": [
    {
     "name": "stdout",
     "output_type": "stream",
     "text": [
      "(19, 7)\n"
     ]
    },
    {
     "data": {
      "text/html": [
       "<div>\n",
       "<style scoped>\n",
       "    .dataframe tbody tr th:only-of-type {\n",
       "        vertical-align: middle;\n",
       "    }\n",
       "\n",
       "    .dataframe tbody tr th {\n",
       "        vertical-align: top;\n",
       "    }\n",
       "\n",
       "    .dataframe thead th {\n",
       "        text-align: right;\n",
       "    }\n",
       "</style>\n",
       "<table border=\"1\" class=\"dataframe\">\n",
       "  <thead>\n",
       "    <tr style=\"text-align: right;\">\n",
       "      <th></th>\n",
       "      <th>Neighborhood</th>\n",
       "      <th>Neighborhood Latitude</th>\n",
       "      <th>Neighborhood Longitude</th>\n",
       "      <th>Venue</th>\n",
       "      <th>Venue Latitude</th>\n",
       "      <th>Venue Longitude</th>\n",
       "      <th>Venue Category</th>\n",
       "    </tr>\n",
       "  </thead>\n",
       "  <tbody>\n",
       "    <tr>\n",
       "      <th>0</th>\n",
       "      <td>Humewood-Cedarvale</td>\n",
       "      <td>43.693781</td>\n",
       "      <td>-79.428191</td>\n",
       "      <td>Cedarvale Park</td>\n",
       "      <td>43.692535</td>\n",
       "      <td>-79.428705</td>\n",
       "      <td>Field</td>\n",
       "    </tr>\n",
       "    <tr>\n",
       "      <th>1</th>\n",
       "      <td>Humewood-Cedarvale</td>\n",
       "      <td>43.693781</td>\n",
       "      <td>-79.428191</td>\n",
       "      <td>Cedarvale Ravine</td>\n",
       "      <td>43.690188</td>\n",
       "      <td>-79.426106</td>\n",
       "      <td>Trail</td>\n",
       "    </tr>\n",
       "    <tr>\n",
       "      <th>2</th>\n",
       "      <td>Humewood-Cedarvale</td>\n",
       "      <td>43.693781</td>\n",
       "      <td>-79.428191</td>\n",
       "      <td>Glen Cedar Park</td>\n",
       "      <td>43.695399</td>\n",
       "      <td>-79.429253</td>\n",
       "      <td>Playground</td>\n",
       "    </tr>\n",
       "    <tr>\n",
       "      <th>3</th>\n",
       "      <td>Humewood-Cedarvale</td>\n",
       "      <td>43.693781</td>\n",
       "      <td>-79.428191</td>\n",
       "      <td>Phil White Arena</td>\n",
       "      <td>43.691303</td>\n",
       "      <td>-79.431761</td>\n",
       "      <td>Hockey Arena</td>\n",
       "    </tr>\n",
       "    <tr>\n",
       "      <th>4</th>\n",
       "      <td>Caledonia-Fairbanks</td>\n",
       "      <td>43.689026</td>\n",
       "      <td>-79.453512</td>\n",
       "      <td>Nairn Park</td>\n",
       "      <td>43.690654</td>\n",
       "      <td>-79.456300</td>\n",
       "      <td>Park</td>\n",
       "    </tr>\n",
       "  </tbody>\n",
       "</table>\n",
       "</div>"
      ],
      "text/plain": [
       "          Neighborhood  Neighborhood Latitude  Neighborhood Longitude  \\\n",
       "0   Humewood-Cedarvale              43.693781              -79.428191   \n",
       "1   Humewood-Cedarvale              43.693781              -79.428191   \n",
       "2   Humewood-Cedarvale              43.693781              -79.428191   \n",
       "3   Humewood-Cedarvale              43.693781              -79.428191   \n",
       "4  Caledonia-Fairbanks              43.689026              -79.453512   \n",
       "\n",
       "              Venue  Venue Latitude  Venue Longitude Venue Category  \n",
       "0    Cedarvale Park       43.692535       -79.428705          Field  \n",
       "1  Cedarvale Ravine       43.690188       -79.426106          Trail  \n",
       "2   Glen Cedar Park       43.695399       -79.429253     Playground  \n",
       "3  Phil White Arena       43.691303       -79.431761   Hockey Arena  \n",
       "4        Nairn Park       43.690654       -79.456300           Park  "
      ]
     },
     "execution_count": 29,
     "metadata": {},
     "output_type": "execute_result"
    }
   ],
   "source": [
    "#Let's check the size of the resulting dataframe\n",
    "print(york_venues.shape)\n",
    "york_venues.head()"
   ]
  },
  {
   "cell_type": "code",
   "execution_count": 30,
   "metadata": {},
   "outputs": [
    {
     "data": {
      "text/html": [
       "<div>\n",
       "<style scoped>\n",
       "    .dataframe tbody tr th:only-of-type {\n",
       "        vertical-align: middle;\n",
       "    }\n",
       "\n",
       "    .dataframe tbody tr th {\n",
       "        vertical-align: top;\n",
       "    }\n",
       "\n",
       "    .dataframe thead th {\n",
       "        text-align: right;\n",
       "    }\n",
       "</style>\n",
       "<table border=\"1\" class=\"dataframe\">\n",
       "  <thead>\n",
       "    <tr style=\"text-align: right;\">\n",
       "      <th></th>\n",
       "      <th>Neighborhood Latitude</th>\n",
       "      <th>Neighborhood Longitude</th>\n",
       "      <th>Venue</th>\n",
       "      <th>Venue Latitude</th>\n",
       "      <th>Venue Longitude</th>\n",
       "      <th>Venue Category</th>\n",
       "    </tr>\n",
       "    <tr>\n",
       "      <th>Neighborhood</th>\n",
       "      <th></th>\n",
       "      <th></th>\n",
       "      <th></th>\n",
       "      <th></th>\n",
       "      <th></th>\n",
       "      <th></th>\n",
       "    </tr>\n",
       "  </thead>\n",
       "  <tbody>\n",
       "    <tr>\n",
       "      <th>Caledonia-Fairbanks</th>\n",
       "      <td>4</td>\n",
       "      <td>4</td>\n",
       "      <td>4</td>\n",
       "      <td>4</td>\n",
       "      <td>4</td>\n",
       "      <td>4</td>\n",
       "    </tr>\n",
       "    <tr>\n",
       "      <th>Del Ray, Mount Dennis, Keelsdale and Silverthorn</th>\n",
       "      <td>5</td>\n",
       "      <td>5</td>\n",
       "      <td>5</td>\n",
       "      <td>5</td>\n",
       "      <td>5</td>\n",
       "      <td>5</td>\n",
       "    </tr>\n",
       "    <tr>\n",
       "      <th>Humewood-Cedarvale</th>\n",
       "      <td>4</td>\n",
       "      <td>4</td>\n",
       "      <td>4</td>\n",
       "      <td>4</td>\n",
       "      <td>4</td>\n",
       "      <td>4</td>\n",
       "    </tr>\n",
       "    <tr>\n",
       "      <th>Runnymede, The Junction North</th>\n",
       "      <td>4</td>\n",
       "      <td>4</td>\n",
       "      <td>4</td>\n",
       "      <td>4</td>\n",
       "      <td>4</td>\n",
       "      <td>4</td>\n",
       "    </tr>\n",
       "    <tr>\n",
       "      <th>Weston</th>\n",
       "      <td>2</td>\n",
       "      <td>2</td>\n",
       "      <td>2</td>\n",
       "      <td>2</td>\n",
       "      <td>2</td>\n",
       "      <td>2</td>\n",
       "    </tr>\n",
       "  </tbody>\n",
       "</table>\n",
       "</div>"
      ],
      "text/plain": [
       "                                                  Neighborhood Latitude  \\\n",
       "Neighborhood                                                              \n",
       "Caledonia-Fairbanks                                                   4   \n",
       "Del Ray, Mount Dennis, Keelsdale and Silverthorn                      5   \n",
       "Humewood-Cedarvale                                                    4   \n",
       "Runnymede, The Junction North                                         4   \n",
       "Weston                                                                2   \n",
       "\n",
       "                                                  Neighborhood Longitude  \\\n",
       "Neighborhood                                                               \n",
       "Caledonia-Fairbanks                                                    4   \n",
       "Del Ray, Mount Dennis, Keelsdale and Silverthorn                       5   \n",
       "Humewood-Cedarvale                                                     4   \n",
       "Runnymede, The Junction North                                          4   \n",
       "Weston                                                                 2   \n",
       "\n",
       "                                                  Venue  Venue Latitude  \\\n",
       "Neighborhood                                                              \n",
       "Caledonia-Fairbanks                                   4               4   \n",
       "Del Ray, Mount Dennis, Keelsdale and Silverthorn      5               5   \n",
       "Humewood-Cedarvale                                    4               4   \n",
       "Runnymede, The Junction North                         4               4   \n",
       "Weston                                                2               2   \n",
       "\n",
       "                                                  Venue Longitude  \\\n",
       "Neighborhood                                                        \n",
       "Caledonia-Fairbanks                                             4   \n",
       "Del Ray, Mount Dennis, Keelsdale and Silverthorn                5   \n",
       "Humewood-Cedarvale                                              4   \n",
       "Runnymede, The Junction North                                   4   \n",
       "Weston                                                          2   \n",
       "\n",
       "                                                  Venue Category  \n",
       "Neighborhood                                                      \n",
       "Caledonia-Fairbanks                                            4  \n",
       "Del Ray, Mount Dennis, Keelsdale and Silverthorn               5  \n",
       "Humewood-Cedarvale                                             4  \n",
       "Runnymede, The Junction North                                  4  \n",
       "Weston                                                         2  "
      ]
     },
     "execution_count": 30,
     "metadata": {},
     "output_type": "execute_result"
    }
   ],
   "source": [
    "#Let's check how many venues were returned for each neighborhood\n",
    "york_venues.groupby('Neighborhood').count()"
   ]
  },
  {
   "cell_type": "code",
   "execution_count": 31,
   "metadata": {},
   "outputs": [
    {
     "name": "stdout",
     "output_type": "stream",
     "text": [
      "There are 16 uniques categories.\n"
     ]
    }
   ],
   "source": [
    "#Let's find out how many unique categories can be curated from all the returned venues\n",
    "print('There are {} uniques categories.'.format(len(york_venues['Venue Category'].unique())))"
   ]
  },
  {
   "cell_type": "markdown",
   "metadata": {},
   "source": [
    "####  Analyze Each Neighborhood"
   ]
  },
  {
   "cell_type": "code",
   "execution_count": 32,
   "metadata": {},
   "outputs": [
    {
     "data": {
      "text/html": [
       "<div>\n",
       "<style scoped>\n",
       "    .dataframe tbody tr th:only-of-type {\n",
       "        vertical-align: middle;\n",
       "    }\n",
       "\n",
       "    .dataframe tbody tr th {\n",
       "        vertical-align: top;\n",
       "    }\n",
       "\n",
       "    .dataframe thead th {\n",
       "        text-align: right;\n",
       "    }\n",
       "</style>\n",
       "<table border=\"1\" class=\"dataframe\">\n",
       "  <thead>\n",
       "    <tr style=\"text-align: right;\">\n",
       "      <th></th>\n",
       "      <th>Neighborhood</th>\n",
       "      <th>Bar</th>\n",
       "      <th>Breakfast Spot</th>\n",
       "      <th>Brewery</th>\n",
       "      <th>Bus Line</th>\n",
       "      <th>Convenience Store</th>\n",
       "      <th>Discount Store</th>\n",
       "      <th>Fast Food Restaurant</th>\n",
       "      <th>Field</th>\n",
       "      <th>Grocery Store</th>\n",
       "      <th>Hockey Arena</th>\n",
       "      <th>Park</th>\n",
       "      <th>Playground</th>\n",
       "      <th>Pool</th>\n",
       "      <th>Sandwich Place</th>\n",
       "      <th>Trail</th>\n",
       "      <th>Women's Store</th>\n",
       "    </tr>\n",
       "  </thead>\n",
       "  <tbody>\n",
       "    <tr>\n",
       "      <th>0</th>\n",
       "      <td>Humewood-Cedarvale</td>\n",
       "      <td>0</td>\n",
       "      <td>0</td>\n",
       "      <td>0</td>\n",
       "      <td>0</td>\n",
       "      <td>0</td>\n",
       "      <td>0</td>\n",
       "      <td>0</td>\n",
       "      <td>1</td>\n",
       "      <td>0</td>\n",
       "      <td>0</td>\n",
       "      <td>0</td>\n",
       "      <td>0</td>\n",
       "      <td>0</td>\n",
       "      <td>0</td>\n",
       "      <td>0</td>\n",
       "      <td>0</td>\n",
       "    </tr>\n",
       "    <tr>\n",
       "      <th>1</th>\n",
       "      <td>Humewood-Cedarvale</td>\n",
       "      <td>0</td>\n",
       "      <td>0</td>\n",
       "      <td>0</td>\n",
       "      <td>0</td>\n",
       "      <td>0</td>\n",
       "      <td>0</td>\n",
       "      <td>0</td>\n",
       "      <td>0</td>\n",
       "      <td>0</td>\n",
       "      <td>0</td>\n",
       "      <td>0</td>\n",
       "      <td>0</td>\n",
       "      <td>0</td>\n",
       "      <td>0</td>\n",
       "      <td>1</td>\n",
       "      <td>0</td>\n",
       "    </tr>\n",
       "    <tr>\n",
       "      <th>2</th>\n",
       "      <td>Humewood-Cedarvale</td>\n",
       "      <td>0</td>\n",
       "      <td>0</td>\n",
       "      <td>0</td>\n",
       "      <td>0</td>\n",
       "      <td>0</td>\n",
       "      <td>0</td>\n",
       "      <td>0</td>\n",
       "      <td>0</td>\n",
       "      <td>0</td>\n",
       "      <td>0</td>\n",
       "      <td>0</td>\n",
       "      <td>1</td>\n",
       "      <td>0</td>\n",
       "      <td>0</td>\n",
       "      <td>0</td>\n",
       "      <td>0</td>\n",
       "    </tr>\n",
       "    <tr>\n",
       "      <th>3</th>\n",
       "      <td>Humewood-Cedarvale</td>\n",
       "      <td>0</td>\n",
       "      <td>0</td>\n",
       "      <td>0</td>\n",
       "      <td>0</td>\n",
       "      <td>0</td>\n",
       "      <td>0</td>\n",
       "      <td>0</td>\n",
       "      <td>0</td>\n",
       "      <td>0</td>\n",
       "      <td>1</td>\n",
       "      <td>0</td>\n",
       "      <td>0</td>\n",
       "      <td>0</td>\n",
       "      <td>0</td>\n",
       "      <td>0</td>\n",
       "      <td>0</td>\n",
       "    </tr>\n",
       "    <tr>\n",
       "      <th>4</th>\n",
       "      <td>Caledonia-Fairbanks</td>\n",
       "      <td>0</td>\n",
       "      <td>0</td>\n",
       "      <td>0</td>\n",
       "      <td>0</td>\n",
       "      <td>0</td>\n",
       "      <td>0</td>\n",
       "      <td>0</td>\n",
       "      <td>0</td>\n",
       "      <td>0</td>\n",
       "      <td>0</td>\n",
       "      <td>1</td>\n",
       "      <td>0</td>\n",
       "      <td>0</td>\n",
       "      <td>0</td>\n",
       "      <td>0</td>\n",
       "      <td>0</td>\n",
       "    </tr>\n",
       "  </tbody>\n",
       "</table>\n",
       "</div>"
      ],
      "text/plain": [
       "          Neighborhood  Bar  Breakfast Spot  Brewery  Bus Line  \\\n",
       "0   Humewood-Cedarvale    0               0        0         0   \n",
       "1   Humewood-Cedarvale    0               0        0         0   \n",
       "2   Humewood-Cedarvale    0               0        0         0   \n",
       "3   Humewood-Cedarvale    0               0        0         0   \n",
       "4  Caledonia-Fairbanks    0               0        0         0   \n",
       "\n",
       "   Convenience Store  Discount Store  Fast Food Restaurant  Field  \\\n",
       "0                  0               0                     0      1   \n",
       "1                  0               0                     0      0   \n",
       "2                  0               0                     0      0   \n",
       "3                  0               0                     0      0   \n",
       "4                  0               0                     0      0   \n",
       "\n",
       "   Grocery Store  Hockey Arena  Park  Playground  Pool  Sandwich Place  Trail  \\\n",
       "0              0             0     0           0     0               0      0   \n",
       "1              0             0     0           0     0               0      1   \n",
       "2              0             0     0           1     0               0      0   \n",
       "3              0             1     0           0     0               0      0   \n",
       "4              0             0     1           0     0               0      0   \n",
       "\n",
       "   Women's Store  \n",
       "0              0  \n",
       "1              0  \n",
       "2              0  \n",
       "3              0  \n",
       "4              0  "
      ]
     },
     "execution_count": 32,
     "metadata": {},
     "output_type": "execute_result"
    }
   ],
   "source": [
    "# one hot encoding\n",
    "york_onehot = pd.get_dummies(york_venues[['Venue Category']], prefix=\"\", prefix_sep=\"\")\n",
    "\n",
    "# add neighborhood column back to dataframe\n",
    "york_onehot['Neighborhood'] = york_venues['Neighborhood'] \n",
    "\n",
    "# move neighborhood column to the first column\n",
    "fixed_columns = [york_onehot.columns[-1]] + list(york_onehot.columns[:-1])\n",
    "york_onehot = york_onehot[fixed_columns]\n",
    "\n",
    "york_onehot.head()"
   ]
  },
  {
   "cell_type": "code",
   "execution_count": 33,
   "metadata": {},
   "outputs": [
    {
     "data": {
      "text/plain": [
       "(19, 17)"
      ]
     },
     "execution_count": 33,
     "metadata": {},
     "output_type": "execute_result"
    }
   ],
   "source": [
    "#And let's examine the new dataframe size.\n",
    "york_onehot.shape"
   ]
  },
  {
   "cell_type": "code",
   "execution_count": 34,
   "metadata": {},
   "outputs": [
    {
     "data": {
      "text/html": [
       "<div>\n",
       "<style scoped>\n",
       "    .dataframe tbody tr th:only-of-type {\n",
       "        vertical-align: middle;\n",
       "    }\n",
       "\n",
       "    .dataframe tbody tr th {\n",
       "        vertical-align: top;\n",
       "    }\n",
       "\n",
       "    .dataframe thead th {\n",
       "        text-align: right;\n",
       "    }\n",
       "</style>\n",
       "<table border=\"1\" class=\"dataframe\">\n",
       "  <thead>\n",
       "    <tr style=\"text-align: right;\">\n",
       "      <th></th>\n",
       "      <th>Neighborhood</th>\n",
       "      <th>Bar</th>\n",
       "      <th>Breakfast Spot</th>\n",
       "      <th>Brewery</th>\n",
       "      <th>Bus Line</th>\n",
       "      <th>Convenience Store</th>\n",
       "      <th>Discount Store</th>\n",
       "      <th>Fast Food Restaurant</th>\n",
       "      <th>Field</th>\n",
       "      <th>Grocery Store</th>\n",
       "      <th>Hockey Arena</th>\n",
       "      <th>Park</th>\n",
       "      <th>Playground</th>\n",
       "      <th>Pool</th>\n",
       "      <th>Sandwich Place</th>\n",
       "      <th>Trail</th>\n",
       "      <th>Women's Store</th>\n",
       "    </tr>\n",
       "  </thead>\n",
       "  <tbody>\n",
       "    <tr>\n",
       "      <th>0</th>\n",
       "      <td>Caledonia-Fairbanks</td>\n",
       "      <td>0.0</td>\n",
       "      <td>0.00</td>\n",
       "      <td>0.00</td>\n",
       "      <td>0.00</td>\n",
       "      <td>0.0</td>\n",
       "      <td>0.0</td>\n",
       "      <td>0.0</td>\n",
       "      <td>0.00</td>\n",
       "      <td>0.00</td>\n",
       "      <td>0.00</td>\n",
       "      <td>0.5</td>\n",
       "      <td>0.00</td>\n",
       "      <td>0.25</td>\n",
       "      <td>0.0</td>\n",
       "      <td>0.00</td>\n",
       "      <td>0.25</td>\n",
       "    </tr>\n",
       "    <tr>\n",
       "      <th>1</th>\n",
       "      <td>Del Ray, Mount Dennis, Keelsdale and Silverthorn</td>\n",
       "      <td>0.2</td>\n",
       "      <td>0.00</td>\n",
       "      <td>0.00</td>\n",
       "      <td>0.00</td>\n",
       "      <td>0.0</td>\n",
       "      <td>0.2</td>\n",
       "      <td>0.4</td>\n",
       "      <td>0.00</td>\n",
       "      <td>0.00</td>\n",
       "      <td>0.00</td>\n",
       "      <td>0.0</td>\n",
       "      <td>0.00</td>\n",
       "      <td>0.00</td>\n",
       "      <td>0.2</td>\n",
       "      <td>0.00</td>\n",
       "      <td>0.00</td>\n",
       "    </tr>\n",
       "    <tr>\n",
       "      <th>2</th>\n",
       "      <td>Humewood-Cedarvale</td>\n",
       "      <td>0.0</td>\n",
       "      <td>0.00</td>\n",
       "      <td>0.00</td>\n",
       "      <td>0.00</td>\n",
       "      <td>0.0</td>\n",
       "      <td>0.0</td>\n",
       "      <td>0.0</td>\n",
       "      <td>0.25</td>\n",
       "      <td>0.00</td>\n",
       "      <td>0.25</td>\n",
       "      <td>0.0</td>\n",
       "      <td>0.25</td>\n",
       "      <td>0.00</td>\n",
       "      <td>0.0</td>\n",
       "      <td>0.25</td>\n",
       "      <td>0.00</td>\n",
       "    </tr>\n",
       "    <tr>\n",
       "      <th>3</th>\n",
       "      <td>Runnymede, The Junction North</td>\n",
       "      <td>0.0</td>\n",
       "      <td>0.25</td>\n",
       "      <td>0.25</td>\n",
       "      <td>0.25</td>\n",
       "      <td>0.0</td>\n",
       "      <td>0.0</td>\n",
       "      <td>0.0</td>\n",
       "      <td>0.00</td>\n",
       "      <td>0.25</td>\n",
       "      <td>0.00</td>\n",
       "      <td>0.0</td>\n",
       "      <td>0.00</td>\n",
       "      <td>0.00</td>\n",
       "      <td>0.0</td>\n",
       "      <td>0.00</td>\n",
       "      <td>0.00</td>\n",
       "    </tr>\n",
       "    <tr>\n",
       "      <th>4</th>\n",
       "      <td>Weston</td>\n",
       "      <td>0.0</td>\n",
       "      <td>0.00</td>\n",
       "      <td>0.00</td>\n",
       "      <td>0.00</td>\n",
       "      <td>0.5</td>\n",
       "      <td>0.0</td>\n",
       "      <td>0.0</td>\n",
       "      <td>0.00</td>\n",
       "      <td>0.00</td>\n",
       "      <td>0.00</td>\n",
       "      <td>0.5</td>\n",
       "      <td>0.00</td>\n",
       "      <td>0.00</td>\n",
       "      <td>0.0</td>\n",
       "      <td>0.00</td>\n",
       "      <td>0.00</td>\n",
       "    </tr>\n",
       "  </tbody>\n",
       "</table>\n",
       "</div>"
      ],
      "text/plain": [
       "                                       Neighborhood  Bar  Breakfast Spot  \\\n",
       "0                               Caledonia-Fairbanks  0.0            0.00   \n",
       "1  Del Ray, Mount Dennis, Keelsdale and Silverthorn  0.2            0.00   \n",
       "2                                Humewood-Cedarvale  0.0            0.00   \n",
       "3                     Runnymede, The Junction North  0.0            0.25   \n",
       "4                                            Weston  0.0            0.00   \n",
       "\n",
       "   Brewery  Bus Line  Convenience Store  Discount Store  Fast Food Restaurant  \\\n",
       "0     0.00      0.00                0.0             0.0                   0.0   \n",
       "1     0.00      0.00                0.0             0.2                   0.4   \n",
       "2     0.00      0.00                0.0             0.0                   0.0   \n",
       "3     0.25      0.25                0.0             0.0                   0.0   \n",
       "4     0.00      0.00                0.5             0.0                   0.0   \n",
       "\n",
       "   Field  Grocery Store  Hockey Arena  Park  Playground  Pool  Sandwich Place  \\\n",
       "0   0.00           0.00          0.00   0.5        0.00  0.25             0.0   \n",
       "1   0.00           0.00          0.00   0.0        0.00  0.00             0.2   \n",
       "2   0.25           0.00          0.25   0.0        0.25  0.00             0.0   \n",
       "3   0.00           0.25          0.00   0.0        0.00  0.00             0.0   \n",
       "4   0.00           0.00          0.00   0.5        0.00  0.00             0.0   \n",
       "\n",
       "   Trail  Women's Store  \n",
       "0   0.00           0.25  \n",
       "1   0.00           0.00  \n",
       "2   0.25           0.00  \n",
       "3   0.00           0.00  \n",
       "4   0.00           0.00  "
      ]
     },
     "execution_count": 34,
     "metadata": {},
     "output_type": "execute_result"
    }
   ],
   "source": [
    "#Next, let's group rows by neighborhood and by taking the mean of the frequency of occurrence of each category\n",
    "york_grouped = york_onehot.groupby('Neighborhood').mean().reset_index()\n",
    "york_grouped"
   ]
  },
  {
   "cell_type": "code",
   "execution_count": 35,
   "metadata": {},
   "outputs": [
    {
     "data": {
      "text/plain": [
       "(5, 17)"
      ]
     },
     "execution_count": 35,
     "metadata": {},
     "output_type": "execute_result"
    }
   ],
   "source": [
    "#Let's confirm the new size\n",
    "york_grouped.shape"
   ]
  },
  {
   "cell_type": "code",
   "execution_count": 36,
   "metadata": {},
   "outputs": [
    {
     "name": "stdout",
     "output_type": "stream",
     "text": [
      "----Caledonia-Fairbanks----\n",
      "            venue  freq\n",
      "0            Park  0.50\n",
      "1            Pool  0.25\n",
      "2   Women's Store  0.25\n",
      "3             Bar  0.00\n",
      "4  Breakfast Spot  0.00\n",
      "\n",
      "\n",
      "----Del Ray, Mount Dennis, Keelsdale and Silverthorn----\n",
      "                  venue  freq\n",
      "0  Fast Food Restaurant   0.4\n",
      "1                   Bar   0.2\n",
      "2        Discount Store   0.2\n",
      "3        Sandwich Place   0.2\n",
      "4        Breakfast Spot   0.0\n",
      "\n",
      "\n",
      "----Humewood-Cedarvale----\n",
      "          venue  freq\n",
      "0         Field  0.25\n",
      "1  Hockey Arena  0.25\n",
      "2    Playground  0.25\n",
      "3         Trail  0.25\n",
      "4           Bar  0.00\n",
      "\n",
      "\n",
      "----Runnymede, The Junction North----\n",
      "            venue  freq\n",
      "0  Breakfast Spot  0.25\n",
      "1         Brewery  0.25\n",
      "2        Bus Line  0.25\n",
      "3   Grocery Store  0.25\n",
      "4             Bar  0.00\n",
      "\n",
      "\n",
      "----Weston----\n",
      "               venue  freq\n",
      "0  Convenience Store   0.5\n",
      "1               Park   0.5\n",
      "2                Bar   0.0\n",
      "3     Breakfast Spot   0.0\n",
      "4            Brewery   0.0\n",
      "\n",
      "\n"
     ]
    }
   ],
   "source": [
    "#Let's print each neighborhood along with the top 5 most common venues\n",
    "num_top_venues = 5\n",
    "\n",
    "for hood in york_grouped['Neighborhood']:\n",
    "    print(\"----\"+hood+\"----\")\n",
    "    temp = york_grouped[york_grouped['Neighborhood'] == hood].T.reset_index()\n",
    "    temp.columns = ['venue','freq']\n",
    "    temp = temp.iloc[1:]\n",
    "    temp['freq'] = temp['freq'].astype(float)\n",
    "    temp = temp.round({'freq': 2})\n",
    "    print(temp.sort_values('freq', ascending=False).reset_index(drop=True).head(num_top_venues))\n",
    "    print('\\n')"
   ]
  },
  {
   "cell_type": "markdown",
   "metadata": {},
   "source": [
    "Let's put that into a pandas dataframe\n",
    "First, let's write a function to sort the venues in descending order."
   ]
  },
  {
   "cell_type": "code",
   "execution_count": 37,
   "metadata": {},
   "outputs": [],
   "source": [
    "def return_most_common_venues(row, num_top_venues):\n",
    "    row_categories = row.iloc[1:]\n",
    "    row_categories_sorted = row_categories.sort_values(ascending=False)\n",
    "    \n",
    "    return row_categories_sorted.index.values[0:num_top_venues]"
   ]
  },
  {
   "cell_type": "markdown",
   "metadata": {},
   "source": [
    "\n",
    "Now let's create the new dataframe and display the top 10 venues for each neighborhood."
   ]
  },
  {
   "cell_type": "code",
   "execution_count": 38,
   "metadata": {},
   "outputs": [
    {
     "data": {
      "text/html": [
       "<div>\n",
       "<style scoped>\n",
       "    .dataframe tbody tr th:only-of-type {\n",
       "        vertical-align: middle;\n",
       "    }\n",
       "\n",
       "    .dataframe tbody tr th {\n",
       "        vertical-align: top;\n",
       "    }\n",
       "\n",
       "    .dataframe thead th {\n",
       "        text-align: right;\n",
       "    }\n",
       "</style>\n",
       "<table border=\"1\" class=\"dataframe\">\n",
       "  <thead>\n",
       "    <tr style=\"text-align: right;\">\n",
       "      <th></th>\n",
       "      <th>Neighborhood</th>\n",
       "      <th>1st Most Common Venue</th>\n",
       "      <th>2nd Most Common Venue</th>\n",
       "      <th>3rd Most Common Venue</th>\n",
       "      <th>4th Most Common Venue</th>\n",
       "      <th>5th Most Common Venue</th>\n",
       "      <th>6th Most Common Venue</th>\n",
       "      <th>7th Most Common Venue</th>\n",
       "      <th>8th Most Common Venue</th>\n",
       "      <th>9th Most Common Venue</th>\n",
       "      <th>10th Most Common Venue</th>\n",
       "    </tr>\n",
       "  </thead>\n",
       "  <tbody>\n",
       "    <tr>\n",
       "      <th>0</th>\n",
       "      <td>Caledonia-Fairbanks</td>\n",
       "      <td>Park</td>\n",
       "      <td>Women's Store</td>\n",
       "      <td>Pool</td>\n",
       "      <td>Trail</td>\n",
       "      <td>Sandwich Place</td>\n",
       "      <td>Playground</td>\n",
       "      <td>Hockey Arena</td>\n",
       "      <td>Grocery Store</td>\n",
       "      <td>Field</td>\n",
       "      <td>Fast Food Restaurant</td>\n",
       "    </tr>\n",
       "    <tr>\n",
       "      <th>1</th>\n",
       "      <td>Del Ray, Mount Dennis, Keelsdale and Silverthorn</td>\n",
       "      <td>Fast Food Restaurant</td>\n",
       "      <td>Sandwich Place</td>\n",
       "      <td>Discount Store</td>\n",
       "      <td>Bar</td>\n",
       "      <td>Women's Store</td>\n",
       "      <td>Trail</td>\n",
       "      <td>Pool</td>\n",
       "      <td>Playground</td>\n",
       "      <td>Park</td>\n",
       "      <td>Hockey Arena</td>\n",
       "    </tr>\n",
       "    <tr>\n",
       "      <th>2</th>\n",
       "      <td>Humewood-Cedarvale</td>\n",
       "      <td>Trail</td>\n",
       "      <td>Playground</td>\n",
       "      <td>Hockey Arena</td>\n",
       "      <td>Field</td>\n",
       "      <td>Women's Store</td>\n",
       "      <td>Sandwich Place</td>\n",
       "      <td>Pool</td>\n",
       "      <td>Park</td>\n",
       "      <td>Grocery Store</td>\n",
       "      <td>Fast Food Restaurant</td>\n",
       "    </tr>\n",
       "    <tr>\n",
       "      <th>3</th>\n",
       "      <td>Runnymede, The Junction North</td>\n",
       "      <td>Grocery Store</td>\n",
       "      <td>Bus Line</td>\n",
       "      <td>Brewery</td>\n",
       "      <td>Breakfast Spot</td>\n",
       "      <td>Women's Store</td>\n",
       "      <td>Trail</td>\n",
       "      <td>Sandwich Place</td>\n",
       "      <td>Pool</td>\n",
       "      <td>Playground</td>\n",
       "      <td>Park</td>\n",
       "    </tr>\n",
       "    <tr>\n",
       "      <th>4</th>\n",
       "      <td>Weston</td>\n",
       "      <td>Park</td>\n",
       "      <td>Convenience Store</td>\n",
       "      <td>Women's Store</td>\n",
       "      <td>Trail</td>\n",
       "      <td>Sandwich Place</td>\n",
       "      <td>Pool</td>\n",
       "      <td>Playground</td>\n",
       "      <td>Hockey Arena</td>\n",
       "      <td>Grocery Store</td>\n",
       "      <td>Field</td>\n",
       "    </tr>\n",
       "  </tbody>\n",
       "</table>\n",
       "</div>"
      ],
      "text/plain": [
       "                                       Neighborhood 1st Most Common Venue  \\\n",
       "0                               Caledonia-Fairbanks                  Park   \n",
       "1  Del Ray, Mount Dennis, Keelsdale and Silverthorn  Fast Food Restaurant   \n",
       "2                                Humewood-Cedarvale                 Trail   \n",
       "3                     Runnymede, The Junction North         Grocery Store   \n",
       "4                                            Weston                  Park   \n",
       "\n",
       "  2nd Most Common Venue 3rd Most Common Venue 4th Most Common Venue  \\\n",
       "0         Women's Store                  Pool                 Trail   \n",
       "1        Sandwich Place        Discount Store                   Bar   \n",
       "2            Playground          Hockey Arena                 Field   \n",
       "3              Bus Line               Brewery        Breakfast Spot   \n",
       "4     Convenience Store         Women's Store                 Trail   \n",
       "\n",
       "  5th Most Common Venue 6th Most Common Venue 7th Most Common Venue  \\\n",
       "0        Sandwich Place            Playground          Hockey Arena   \n",
       "1         Women's Store                 Trail                  Pool   \n",
       "2         Women's Store        Sandwich Place                  Pool   \n",
       "3         Women's Store                 Trail        Sandwich Place   \n",
       "4        Sandwich Place                  Pool            Playground   \n",
       "\n",
       "  8th Most Common Venue 9th Most Common Venue 10th Most Common Venue  \n",
       "0         Grocery Store                 Field   Fast Food Restaurant  \n",
       "1            Playground                  Park           Hockey Arena  \n",
       "2                  Park         Grocery Store   Fast Food Restaurant  \n",
       "3                  Pool            Playground                   Park  \n",
       "4          Hockey Arena         Grocery Store                  Field  "
      ]
     },
     "execution_count": 38,
     "metadata": {},
     "output_type": "execute_result"
    }
   ],
   "source": [
    "num_top_venues = 10\n",
    "\n",
    "indicators = ['st', 'nd', 'rd']\n",
    "\n",
    "# create columns according to number of top venues\n",
    "columns = ['Neighborhood']\n",
    "for ind in np.arange(num_top_venues):\n",
    "    try:\n",
    "        columns.append('{}{} Most Common Venue'.format(ind+1, indicators[ind]))\n",
    "    except:\n",
    "        columns.append('{}th Most Common Venue'.format(ind+1))\n",
    "\n",
    "# create a new dataframe\n",
    "neighborhoods_venues_sorted = pd.DataFrame(columns=columns)\n",
    "neighborhoods_venues_sorted['Neighborhood'] = york_grouped['Neighborhood']\n",
    "\n",
    "for ind in np.arange(york_grouped.shape[0]):\n",
    "    neighborhoods_venues_sorted.iloc[ind, 1:] = return_most_common_venues(york_grouped.iloc[ind, :], num_top_venues)\n",
    "\n",
    "neighborhoods_venues_sorted.head()"
   ]
  },
  {
   "cell_type": "markdown",
   "metadata": {},
   "source": [
    "## Cluster Neighborhood"
   ]
  },
  {
   "cell_type": "markdown",
   "metadata": {},
   "source": [
    "Run k-means to cluster the neighborhood into 3 clusters."
   ]
  },
  {
   "cell_type": "code",
   "execution_count": 39,
   "metadata": {},
   "outputs": [
    {
     "data": {
      "text/plain": [
       "array([4, 1, 3, 2, 0])"
      ]
     },
     "execution_count": 39,
     "metadata": {},
     "output_type": "execute_result"
    }
   ],
   "source": [
    "# set number of clusters\n",
    "kclusters = 5\n",
    "\n",
    "york_grouped_clustering = york_grouped.drop('Neighborhood', 1)\n",
    "\n",
    "# run k-means clustering\n",
    "kmeans = KMeans(n_clusters=kclusters, random_state=0).fit(york_grouped_clustering)\n",
    "\n",
    "# check cluster labels generated for each row in the dataframe\n",
    "kmeans.labels_[0:10]"
   ]
  },
  {
   "cell_type": "markdown",
   "metadata": {},
   "source": [
    "Let's create a new dataframe that includes the cluster as well as the top 10 venues for each neighborhood."
   ]
  },
  {
   "cell_type": "code",
   "execution_count": 42,
   "metadata": {},
   "outputs": [
    {
     "data": {
      "text/html": [
       "<div>\n",
       "<style scoped>\n",
       "    .dataframe tbody tr th:only-of-type {\n",
       "        vertical-align: middle;\n",
       "    }\n",
       "\n",
       "    .dataframe tbody tr th {\n",
       "        vertical-align: top;\n",
       "    }\n",
       "\n",
       "    .dataframe thead th {\n",
       "        text-align: right;\n",
       "    }\n",
       "</style>\n",
       "<table border=\"1\" class=\"dataframe\">\n",
       "  <thead>\n",
       "    <tr style=\"text-align: right;\">\n",
       "      <th></th>\n",
       "      <th>Postal Code</th>\n",
       "      <th>Borough</th>\n",
       "      <th>Neighborhood</th>\n",
       "      <th>Latitude</th>\n",
       "      <th>Longitude</th>\n",
       "      <th>Cluster Labels</th>\n",
       "      <th>1st Most Common Venue</th>\n",
       "      <th>2nd Most Common Venue</th>\n",
       "      <th>3rd Most Common Venue</th>\n",
       "      <th>4th Most Common Venue</th>\n",
       "      <th>5th Most Common Venue</th>\n",
       "      <th>6th Most Common Venue</th>\n",
       "      <th>7th Most Common Venue</th>\n",
       "      <th>8th Most Common Venue</th>\n",
       "      <th>9th Most Common Venue</th>\n",
       "      <th>10th Most Common Venue</th>\n",
       "    </tr>\n",
       "  </thead>\n",
       "  <tbody>\n",
       "    <tr>\n",
       "      <th>0</th>\n",
       "      <td>M6C</td>\n",
       "      <td>York</td>\n",
       "      <td>Humewood-Cedarvale</td>\n",
       "      <td>43.693781</td>\n",
       "      <td>-79.428191</td>\n",
       "      <td>3</td>\n",
       "      <td>Trail</td>\n",
       "      <td>Playground</td>\n",
       "      <td>Hockey Arena</td>\n",
       "      <td>Field</td>\n",
       "      <td>Women's Store</td>\n",
       "      <td>Sandwich Place</td>\n",
       "      <td>Pool</td>\n",
       "      <td>Park</td>\n",
       "      <td>Grocery Store</td>\n",
       "      <td>Fast Food Restaurant</td>\n",
       "    </tr>\n",
       "    <tr>\n",
       "      <th>1</th>\n",
       "      <td>M6E</td>\n",
       "      <td>York</td>\n",
       "      <td>Caledonia-Fairbanks</td>\n",
       "      <td>43.689026</td>\n",
       "      <td>-79.453512</td>\n",
       "      <td>4</td>\n",
       "      <td>Park</td>\n",
       "      <td>Women's Store</td>\n",
       "      <td>Pool</td>\n",
       "      <td>Trail</td>\n",
       "      <td>Sandwich Place</td>\n",
       "      <td>Playground</td>\n",
       "      <td>Hockey Arena</td>\n",
       "      <td>Grocery Store</td>\n",
       "      <td>Field</td>\n",
       "      <td>Fast Food Restaurant</td>\n",
       "    </tr>\n",
       "    <tr>\n",
       "      <th>2</th>\n",
       "      <td>M6M</td>\n",
       "      <td>York</td>\n",
       "      <td>Del Ray, Mount Dennis, Keelsdale and Silverthorn</td>\n",
       "      <td>43.691116</td>\n",
       "      <td>-79.476013</td>\n",
       "      <td>1</td>\n",
       "      <td>Fast Food Restaurant</td>\n",
       "      <td>Sandwich Place</td>\n",
       "      <td>Discount Store</td>\n",
       "      <td>Bar</td>\n",
       "      <td>Women's Store</td>\n",
       "      <td>Trail</td>\n",
       "      <td>Pool</td>\n",
       "      <td>Playground</td>\n",
       "      <td>Park</td>\n",
       "      <td>Hockey Arena</td>\n",
       "    </tr>\n",
       "    <tr>\n",
       "      <th>3</th>\n",
       "      <td>M6N</td>\n",
       "      <td>York</td>\n",
       "      <td>Runnymede, The Junction North</td>\n",
       "      <td>43.673185</td>\n",
       "      <td>-79.487262</td>\n",
       "      <td>2</td>\n",
       "      <td>Grocery Store</td>\n",
       "      <td>Bus Line</td>\n",
       "      <td>Brewery</td>\n",
       "      <td>Breakfast Spot</td>\n",
       "      <td>Women's Store</td>\n",
       "      <td>Trail</td>\n",
       "      <td>Sandwich Place</td>\n",
       "      <td>Pool</td>\n",
       "      <td>Playground</td>\n",
       "      <td>Park</td>\n",
       "    </tr>\n",
       "    <tr>\n",
       "      <th>4</th>\n",
       "      <td>M9N</td>\n",
       "      <td>York</td>\n",
       "      <td>Weston</td>\n",
       "      <td>43.706876</td>\n",
       "      <td>-79.518188</td>\n",
       "      <td>0</td>\n",
       "      <td>Park</td>\n",
       "      <td>Convenience Store</td>\n",
       "      <td>Women's Store</td>\n",
       "      <td>Trail</td>\n",
       "      <td>Sandwich Place</td>\n",
       "      <td>Pool</td>\n",
       "      <td>Playground</td>\n",
       "      <td>Hockey Arena</td>\n",
       "      <td>Grocery Store</td>\n",
       "      <td>Field</td>\n",
       "    </tr>\n",
       "  </tbody>\n",
       "</table>\n",
       "</div>"
      ],
      "text/plain": [
       "  Postal Code Borough                                      Neighborhood  \\\n",
       "0         M6C    York                                Humewood-Cedarvale   \n",
       "1         M6E    York                               Caledonia-Fairbanks   \n",
       "2         M6M    York  Del Ray, Mount Dennis, Keelsdale and Silverthorn   \n",
       "3         M6N    York                     Runnymede, The Junction North   \n",
       "4         M9N    York                                            Weston   \n",
       "\n",
       "    Latitude  Longitude  Cluster Labels 1st Most Common Venue  \\\n",
       "0  43.693781 -79.428191               3                 Trail   \n",
       "1  43.689026 -79.453512               4                  Park   \n",
       "2  43.691116 -79.476013               1  Fast Food Restaurant   \n",
       "3  43.673185 -79.487262               2         Grocery Store   \n",
       "4  43.706876 -79.518188               0                  Park   \n",
       "\n",
       "  2nd Most Common Venue 3rd Most Common Venue 4th Most Common Venue  \\\n",
       "0            Playground          Hockey Arena                 Field   \n",
       "1         Women's Store                  Pool                 Trail   \n",
       "2        Sandwich Place        Discount Store                   Bar   \n",
       "3              Bus Line               Brewery        Breakfast Spot   \n",
       "4     Convenience Store         Women's Store                 Trail   \n",
       "\n",
       "  5th Most Common Venue 6th Most Common Venue 7th Most Common Venue  \\\n",
       "0         Women's Store        Sandwich Place                  Pool   \n",
       "1        Sandwich Place            Playground          Hockey Arena   \n",
       "2         Women's Store                 Trail                  Pool   \n",
       "3         Women's Store                 Trail        Sandwich Place   \n",
       "4        Sandwich Place                  Pool            Playground   \n",
       "\n",
       "  8th Most Common Venue 9th Most Common Venue 10th Most Common Venue  \n",
       "0                  Park         Grocery Store   Fast Food Restaurant  \n",
       "1         Grocery Store                 Field   Fast Food Restaurant  \n",
       "2            Playground                  Park           Hockey Arena  \n",
       "3                  Pool            Playground                   Park  \n",
       "4          Hockey Arena         Grocery Store                  Field  "
      ]
     },
     "execution_count": 42,
     "metadata": {},
     "output_type": "execute_result"
    }
   ],
   "source": [
    "# add clustering labels\n",
    "neighborhoods_venues_sorted.insert(0, 'Cluster Labels', kmeans.labels_)\n",
    "\n",
    "york_merged = york_data\n",
    "\n",
    "# merge toronto_grouped with toronto_data to add latitude/longitude for each neighborhood\n",
    "york_merged = york_merged.join(neighborhoods_venues_sorted.set_index('Neighborhood'), on='Neighborhood')\n",
    "\n",
    "york_merged.head() # check the last columns!"
   ]
  },
  {
   "cell_type": "markdown",
   "metadata": {},
   "source": [
    "Finally, let's visualize the resulting clusters"
   ]
  },
  {
   "cell_type": "code",
   "execution_count": 43,
   "metadata": {},
   "outputs": [
    {
     "data": {
      "text/html": [
       "<div style=\"width:100%;\"><div style=\"position:relative;width:100%;height:0;padding-bottom:60%;\"><span style=\"color:#565656\">Make this Notebook Trusted to load map: File -> Trust Notebook</span><iframe src=\"about:blank\" style=\"position:absolute;width:100%;height:100%;left:0;top:0;border:none !important;\" data-html=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 onload=\"this.contentDocument.open();this.contentDocument.write(atob(this.getAttribute('data-html')));this.contentDocument.close();\" allowfullscreen webkitallowfullscreen mozallowfullscreen></iframe></div></div>"
      ],
      "text/plain": [
       "<folium.folium.Map at 0x1b2443b1d88>"
      ]
     },
     "execution_count": 43,
     "metadata": {},
     "output_type": "execute_result"
    }
   ],
   "source": [
    "# create map\n",
    "map_clusters = folium.Map(location=[latitude, longitude], zoom_start=11)\n",
    "\n",
    "# set color scheme for the clusters\n",
    "x = np.arange(kclusters)\n",
    "ys = [i + x + (i*x)**2 for i in range(kclusters)]\n",
    "colors_array = cm.rainbow(np.linspace(0, 1, len(ys)))\n",
    "rainbow = [colors.rgb2hex(i) for i in colors_array]\n",
    "\n",
    "# add markers to the map\n",
    "markers_colors = []\n",
    "for lat, lon, poi, cluster in zip(york_merged['Latitude'], york_merged['Longitude'], york_merged['Neighborhood'], york_merged['Cluster Labels']):\n",
    "    label = folium.Popup(str(poi) + ' Cluster ' + str(cluster), parse_html=True)\n",
    "    folium.CircleMarker(\n",
    "        [lat, lon],\n",
    "        radius=5,\n",
    "        popup=label,\n",
    "        color=rainbow[cluster-1],\n",
    "        fill=True,\n",
    "        fill_color=rainbow[cluster-1],\n",
    "        fill_opacity=0.7).add_to(map_clusters)\n",
    "       \n",
    "map_clusters"
   ]
  },
  {
   "cell_type": "code",
   "execution_count": 44,
   "metadata": {},
   "outputs": [
    {
     "data": {
      "text/html": [
       "<div>\n",
       "<style scoped>\n",
       "    .dataframe tbody tr th:only-of-type {\n",
       "        vertical-align: middle;\n",
       "    }\n",
       "\n",
       "    .dataframe tbody tr th {\n",
       "        vertical-align: top;\n",
       "    }\n",
       "\n",
       "    .dataframe thead th {\n",
       "        text-align: right;\n",
       "    }\n",
       "</style>\n",
       "<table border=\"1\" class=\"dataframe\">\n",
       "  <thead>\n",
       "    <tr style=\"text-align: right;\">\n",
       "      <th></th>\n",
       "      <th>Borough</th>\n",
       "      <th>Cluster Labels</th>\n",
       "      <th>1st Most Common Venue</th>\n",
       "      <th>2nd Most Common Venue</th>\n",
       "      <th>3rd Most Common Venue</th>\n",
       "      <th>4th Most Common Venue</th>\n",
       "      <th>5th Most Common Venue</th>\n",
       "      <th>6th Most Common Venue</th>\n",
       "      <th>7th Most Common Venue</th>\n",
       "      <th>8th Most Common Venue</th>\n",
       "      <th>9th Most Common Venue</th>\n",
       "      <th>10th Most Common Venue</th>\n",
       "    </tr>\n",
       "  </thead>\n",
       "  <tbody>\n",
       "    <tr>\n",
       "      <th>4</th>\n",
       "      <td>York</td>\n",
       "      <td>0</td>\n",
       "      <td>Park</td>\n",
       "      <td>Convenience Store</td>\n",
       "      <td>Women's Store</td>\n",
       "      <td>Trail</td>\n",
       "      <td>Sandwich Place</td>\n",
       "      <td>Pool</td>\n",
       "      <td>Playground</td>\n",
       "      <td>Hockey Arena</td>\n",
       "      <td>Grocery Store</td>\n",
       "      <td>Field</td>\n",
       "    </tr>\n",
       "  </tbody>\n",
       "</table>\n",
       "</div>"
      ],
      "text/plain": [
       "  Borough  Cluster Labels 1st Most Common Venue 2nd Most Common Venue  \\\n",
       "4    York               0                  Park     Convenience Store   \n",
       "\n",
       "  3rd Most Common Venue 4th Most Common Venue 5th Most Common Venue  \\\n",
       "4         Women's Store                 Trail        Sandwich Place   \n",
       "\n",
       "  6th Most Common Venue 7th Most Common Venue 8th Most Common Venue  \\\n",
       "4                  Pool            Playground          Hockey Arena   \n",
       "\n",
       "  9th Most Common Venue 10th Most Common Venue  \n",
       "4         Grocery Store                  Field  "
      ]
     },
     "execution_count": 44,
     "metadata": {},
     "output_type": "execute_result"
    }
   ],
   "source": [
    "york_merged.loc[york_merged['Cluster Labels'] == 0, york_merged.columns[[1] + list(range(5, york_merged.shape[1]))]]"
   ]
  },
  {
   "cell_type": "code",
   "execution_count": 45,
   "metadata": {},
   "outputs": [
    {
     "data": {
      "text/html": [
       "<div>\n",
       "<style scoped>\n",
       "    .dataframe tbody tr th:only-of-type {\n",
       "        vertical-align: middle;\n",
       "    }\n",
       "\n",
       "    .dataframe tbody tr th {\n",
       "        vertical-align: top;\n",
       "    }\n",
       "\n",
       "    .dataframe thead th {\n",
       "        text-align: right;\n",
       "    }\n",
       "</style>\n",
       "<table border=\"1\" class=\"dataframe\">\n",
       "  <thead>\n",
       "    <tr style=\"text-align: right;\">\n",
       "      <th></th>\n",
       "      <th>Borough</th>\n",
       "      <th>Cluster Labels</th>\n",
       "      <th>1st Most Common Venue</th>\n",
       "      <th>2nd Most Common Venue</th>\n",
       "      <th>3rd Most Common Venue</th>\n",
       "      <th>4th Most Common Venue</th>\n",
       "      <th>5th Most Common Venue</th>\n",
       "      <th>6th Most Common Venue</th>\n",
       "      <th>7th Most Common Venue</th>\n",
       "      <th>8th Most Common Venue</th>\n",
       "      <th>9th Most Common Venue</th>\n",
       "      <th>10th Most Common Venue</th>\n",
       "    </tr>\n",
       "  </thead>\n",
       "  <tbody>\n",
       "    <tr>\n",
       "      <th>2</th>\n",
       "      <td>York</td>\n",
       "      <td>1</td>\n",
       "      <td>Fast Food Restaurant</td>\n",
       "      <td>Sandwich Place</td>\n",
       "      <td>Discount Store</td>\n",
       "      <td>Bar</td>\n",
       "      <td>Women's Store</td>\n",
       "      <td>Trail</td>\n",
       "      <td>Pool</td>\n",
       "      <td>Playground</td>\n",
       "      <td>Park</td>\n",
       "      <td>Hockey Arena</td>\n",
       "    </tr>\n",
       "  </tbody>\n",
       "</table>\n",
       "</div>"
      ],
      "text/plain": [
       "  Borough  Cluster Labels 1st Most Common Venue 2nd Most Common Venue  \\\n",
       "2    York               1  Fast Food Restaurant        Sandwich Place   \n",
       "\n",
       "  3rd Most Common Venue 4th Most Common Venue 5th Most Common Venue  \\\n",
       "2        Discount Store                   Bar         Women's Store   \n",
       "\n",
       "  6th Most Common Venue 7th Most Common Venue 8th Most Common Venue  \\\n",
       "2                 Trail                  Pool            Playground   \n",
       "\n",
       "  9th Most Common Venue 10th Most Common Venue  \n",
       "2                  Park           Hockey Arena  "
      ]
     },
     "execution_count": 45,
     "metadata": {},
     "output_type": "execute_result"
    }
   ],
   "source": [
    "york_merged.loc[york_merged['Cluster Labels'] == 1, york_merged.columns[[1] + list(range(5, york_merged.shape[1]))]]"
   ]
  },
  {
   "cell_type": "code",
   "execution_count": 46,
   "metadata": {},
   "outputs": [
    {
     "data": {
      "text/html": [
       "<div>\n",
       "<style scoped>\n",
       "    .dataframe tbody tr th:only-of-type {\n",
       "        vertical-align: middle;\n",
       "    }\n",
       "\n",
       "    .dataframe tbody tr th {\n",
       "        vertical-align: top;\n",
       "    }\n",
       "\n",
       "    .dataframe thead th {\n",
       "        text-align: right;\n",
       "    }\n",
       "</style>\n",
       "<table border=\"1\" class=\"dataframe\">\n",
       "  <thead>\n",
       "    <tr style=\"text-align: right;\">\n",
       "      <th></th>\n",
       "      <th>Borough</th>\n",
       "      <th>Cluster Labels</th>\n",
       "      <th>1st Most Common Venue</th>\n",
       "      <th>2nd Most Common Venue</th>\n",
       "      <th>3rd Most Common Venue</th>\n",
       "      <th>4th Most Common Venue</th>\n",
       "      <th>5th Most Common Venue</th>\n",
       "      <th>6th Most Common Venue</th>\n",
       "      <th>7th Most Common Venue</th>\n",
       "      <th>8th Most Common Venue</th>\n",
       "      <th>9th Most Common Venue</th>\n",
       "      <th>10th Most Common Venue</th>\n",
       "    </tr>\n",
       "  </thead>\n",
       "  <tbody>\n",
       "    <tr>\n",
       "      <th>3</th>\n",
       "      <td>York</td>\n",
       "      <td>2</td>\n",
       "      <td>Grocery Store</td>\n",
       "      <td>Bus Line</td>\n",
       "      <td>Brewery</td>\n",
       "      <td>Breakfast Spot</td>\n",
       "      <td>Women's Store</td>\n",
       "      <td>Trail</td>\n",
       "      <td>Sandwich Place</td>\n",
       "      <td>Pool</td>\n",
       "      <td>Playground</td>\n",
       "      <td>Park</td>\n",
       "    </tr>\n",
       "  </tbody>\n",
       "</table>\n",
       "</div>"
      ],
      "text/plain": [
       "  Borough  Cluster Labels 1st Most Common Venue 2nd Most Common Venue  \\\n",
       "3    York               2         Grocery Store              Bus Line   \n",
       "\n",
       "  3rd Most Common Venue 4th Most Common Venue 5th Most Common Venue  \\\n",
       "3               Brewery        Breakfast Spot         Women's Store   \n",
       "\n",
       "  6th Most Common Venue 7th Most Common Venue 8th Most Common Venue  \\\n",
       "3                 Trail        Sandwich Place                  Pool   \n",
       "\n",
       "  9th Most Common Venue 10th Most Common Venue  \n",
       "3            Playground                   Park  "
      ]
     },
     "execution_count": 46,
     "metadata": {},
     "output_type": "execute_result"
    }
   ],
   "source": [
    "york_merged.loc[york_merged['Cluster Labels'] == 2, york_merged.columns[[1] + list(range(5, york_merged.shape[1]))]]"
   ]
  },
  {
   "cell_type": "code",
   "execution_count": 47,
   "metadata": {},
   "outputs": [
    {
     "data": {
      "text/html": [
       "<div>\n",
       "<style scoped>\n",
       "    .dataframe tbody tr th:only-of-type {\n",
       "        vertical-align: middle;\n",
       "    }\n",
       "\n",
       "    .dataframe tbody tr th {\n",
       "        vertical-align: top;\n",
       "    }\n",
       "\n",
       "    .dataframe thead th {\n",
       "        text-align: right;\n",
       "    }\n",
       "</style>\n",
       "<table border=\"1\" class=\"dataframe\">\n",
       "  <thead>\n",
       "    <tr style=\"text-align: right;\">\n",
       "      <th></th>\n",
       "      <th>Borough</th>\n",
       "      <th>Cluster Labels</th>\n",
       "      <th>1st Most Common Venue</th>\n",
       "      <th>2nd Most Common Venue</th>\n",
       "      <th>3rd Most Common Venue</th>\n",
       "      <th>4th Most Common Venue</th>\n",
       "      <th>5th Most Common Venue</th>\n",
       "      <th>6th Most Common Venue</th>\n",
       "      <th>7th Most Common Venue</th>\n",
       "      <th>8th Most Common Venue</th>\n",
       "      <th>9th Most Common Venue</th>\n",
       "      <th>10th Most Common Venue</th>\n",
       "    </tr>\n",
       "  </thead>\n",
       "  <tbody>\n",
       "    <tr>\n",
       "      <th>0</th>\n",
       "      <td>York</td>\n",
       "      <td>3</td>\n",
       "      <td>Trail</td>\n",
       "      <td>Playground</td>\n",
       "      <td>Hockey Arena</td>\n",
       "      <td>Field</td>\n",
       "      <td>Women's Store</td>\n",
       "      <td>Sandwich Place</td>\n",
       "      <td>Pool</td>\n",
       "      <td>Park</td>\n",
       "      <td>Grocery Store</td>\n",
       "      <td>Fast Food Restaurant</td>\n",
       "    </tr>\n",
       "  </tbody>\n",
       "</table>\n",
       "</div>"
      ],
      "text/plain": [
       "  Borough  Cluster Labels 1st Most Common Venue 2nd Most Common Venue  \\\n",
       "0    York               3                 Trail            Playground   \n",
       "\n",
       "  3rd Most Common Venue 4th Most Common Venue 5th Most Common Venue  \\\n",
       "0          Hockey Arena                 Field         Women's Store   \n",
       "\n",
       "  6th Most Common Venue 7th Most Common Venue 8th Most Common Venue  \\\n",
       "0        Sandwich Place                  Pool                  Park   \n",
       "\n",
       "  9th Most Common Venue 10th Most Common Venue  \n",
       "0         Grocery Store   Fast Food Restaurant  "
      ]
     },
     "execution_count": 47,
     "metadata": {},
     "output_type": "execute_result"
    }
   ],
   "source": [
    "york_merged.loc[york_merged['Cluster Labels'] == 3, york_merged.columns[[1] + list(range(5, york_merged.shape[1]))]]"
   ]
  },
  {
   "cell_type": "code",
   "execution_count": 48,
   "metadata": {},
   "outputs": [
    {
     "data": {
      "text/html": [
       "<div>\n",
       "<style scoped>\n",
       "    .dataframe tbody tr th:only-of-type {\n",
       "        vertical-align: middle;\n",
       "    }\n",
       "\n",
       "    .dataframe tbody tr th {\n",
       "        vertical-align: top;\n",
       "    }\n",
       "\n",
       "    .dataframe thead th {\n",
       "        text-align: right;\n",
       "    }\n",
       "</style>\n",
       "<table border=\"1\" class=\"dataframe\">\n",
       "  <thead>\n",
       "    <tr style=\"text-align: right;\">\n",
       "      <th></th>\n",
       "      <th>Borough</th>\n",
       "      <th>Cluster Labels</th>\n",
       "      <th>1st Most Common Venue</th>\n",
       "      <th>2nd Most Common Venue</th>\n",
       "      <th>3rd Most Common Venue</th>\n",
       "      <th>4th Most Common Venue</th>\n",
       "      <th>5th Most Common Venue</th>\n",
       "      <th>6th Most Common Venue</th>\n",
       "      <th>7th Most Common Venue</th>\n",
       "      <th>8th Most Common Venue</th>\n",
       "      <th>9th Most Common Venue</th>\n",
       "      <th>10th Most Common Venue</th>\n",
       "    </tr>\n",
       "  </thead>\n",
       "  <tbody>\n",
       "    <tr>\n",
       "      <th>1</th>\n",
       "      <td>York</td>\n",
       "      <td>4</td>\n",
       "      <td>Park</td>\n",
       "      <td>Women's Store</td>\n",
       "      <td>Pool</td>\n",
       "      <td>Trail</td>\n",
       "      <td>Sandwich Place</td>\n",
       "      <td>Playground</td>\n",
       "      <td>Hockey Arena</td>\n",
       "      <td>Grocery Store</td>\n",
       "      <td>Field</td>\n",
       "      <td>Fast Food Restaurant</td>\n",
       "    </tr>\n",
       "  </tbody>\n",
       "</table>\n",
       "</div>"
      ],
      "text/plain": [
       "  Borough  Cluster Labels 1st Most Common Venue 2nd Most Common Venue  \\\n",
       "1    York               4                  Park         Women's Store   \n",
       "\n",
       "  3rd Most Common Venue 4th Most Common Venue 5th Most Common Venue  \\\n",
       "1                  Pool                 Trail        Sandwich Place   \n",
       "\n",
       "  6th Most Common Venue 7th Most Common Venue 8th Most Common Venue  \\\n",
       "1            Playground          Hockey Arena         Grocery Store   \n",
       "\n",
       "  9th Most Common Venue 10th Most Common Venue  \n",
       "1                 Field   Fast Food Restaurant  "
      ]
     },
     "execution_count": 48,
     "metadata": {},
     "output_type": "execute_result"
    }
   ],
   "source": [
    "york_merged.loc[york_merged['Cluster Labels'] == 4, york_merged.columns[[1] + list(range(5, york_merged.shape[1]))]]"
   ]
  }
 ],
 "metadata": {
  "kernelspec": {
   "display_name": "Python 3",
   "language": "python",
   "name": "python3"
  },
  "language_info": {
   "codemirror_mode": {
    "name": "ipython",
    "version": 3
   },
   "file_extension": ".py",
   "mimetype": "text/x-python",
   "name": "python",
   "nbconvert_exporter": "python",
   "pygments_lexer": "ipython3",
   "version": "3.7.6"
  }
 },
 "nbformat": 4,
 "nbformat_minor": 4
}
