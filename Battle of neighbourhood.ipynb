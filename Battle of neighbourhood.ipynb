{
 "cells": [
  {
   "cell_type": "code",
   "execution_count": 1,
   "metadata": {},
   "outputs": [
    {
     "name": "stdout",
     "output_type": "stream",
     "text": [
      "Collecting package metadata (current_repodata.json): done\n",
      "Solving environment: done\n",
      "\n",
      "# All requested packages already installed.\n",
      "\n"
     ]
    }
   ],
   "source": [
    "import pandas as pd\n",
    "pd.set_option('display.max_columns', None)\n",
    "pd.set_option('display.max_rows', None)\n",
    "import numpy as np # library to handle data in a vectorized manner\n",
    "\n",
    "import json # library to handle JSON files\n",
    "\n",
    "!conda install -c conda-forge geopy --yes\n",
    "\n",
    "from geopy.geocoders import Nominatim # convert an address into latitude and longitude values\n",
    "\n",
    "import requests # library to handle requests\n",
    "from pandas.io.json import json_normalize # tranform JSON file into a pandas dataframe\n",
    "\n",
    "# Matplotlib and associated plotting modules\n",
    "import matplotlib.cm as cm\n",
    "import matplotlib.colors as colors45678\n",
    "\n",
    "# import k-means from clustering stage\n",
    "from sklearn.cluster import KMeans\n",
    "\n",
    "import folium # map rendering library"
   ]
  },
  {
   "cell_type": "markdown",
   "metadata": {},
   "source": [
    "Data is loaded, preprocessed and stored in file."
   ]
  },
  {
   "cell_type": "code",
   "execution_count": 2,
   "metadata": {},
   "outputs": [
    {
     "data": {
      "text/html": [
       "<div>\n",
       "<style scoped>\n",
       "    .dataframe tbody tr th:only-of-type {\n",
       "        vertical-align: middle;\n",
       "    }\n",
       "\n",
       "    .dataframe tbody tr th {\n",
       "        vertical-align: top;\n",
       "    }\n",
       "\n",
       "    .dataframe thead th {\n",
       "        text-align: right;\n",
       "    }\n",
       "</style>\n",
       "<table border=\"1\" class=\"dataframe\">\n",
       "  <thead>\n",
       "    <tr style=\"text-align: right;\">\n",
       "      <th></th>\n",
       "      <th>Postal Code</th>\n",
       "      <th>Borough</th>\n",
       "      <th>Neighborhood</th>\n",
       "      <th>Latitude</th>\n",
       "      <th>Longitude</th>\n",
       "    </tr>\n",
       "  </thead>\n",
       "  <tbody>\n",
       "    <tr>\n",
       "      <th>0</th>\n",
       "      <td>M3A</td>\n",
       "      <td>North York</td>\n",
       "      <td>Parkwoods</td>\n",
       "      <td>43.753259</td>\n",
       "      <td>-79.329656</td>\n",
       "    </tr>\n",
       "    <tr>\n",
       "      <th>1</th>\n",
       "      <td>M4A</td>\n",
       "      <td>North York</td>\n",
       "      <td>Victoria Village</td>\n",
       "      <td>43.725882</td>\n",
       "      <td>-79.315572</td>\n",
       "    </tr>\n",
       "    <tr>\n",
       "      <th>2</th>\n",
       "      <td>M5A</td>\n",
       "      <td>Downtown Toronto</td>\n",
       "      <td>Regent Park, Harbourfront</td>\n",
       "      <td>43.654260</td>\n",
       "      <td>-79.360636</td>\n",
       "    </tr>\n",
       "    <tr>\n",
       "      <th>3</th>\n",
       "      <td>M6A</td>\n",
       "      <td>North York</td>\n",
       "      <td>Lawrence Manor, Lawrence Heights</td>\n",
       "      <td>43.718518</td>\n",
       "      <td>-79.464763</td>\n",
       "    </tr>\n",
       "    <tr>\n",
       "      <th>4</th>\n",
       "      <td>M7A</td>\n",
       "      <td>Downtown Toronto</td>\n",
       "      <td>Queen's Park, Ontario Provincial Government</td>\n",
       "      <td>43.662301</td>\n",
       "      <td>-79.389494</td>\n",
       "    </tr>\n",
       "  </tbody>\n",
       "</table>\n",
       "</div>"
      ],
      "text/plain": [
       "  Postal Code           Borough                                 Neighborhood  \\\n",
       "0         M3A        North York                                    Parkwoods   \n",
       "1         M4A        North York                             Victoria Village   \n",
       "2         M5A  Downtown Toronto                    Regent Park, Harbourfront   \n",
       "3         M6A        North York             Lawrence Manor, Lawrence Heights   \n",
       "4         M7A  Downtown Toronto  Queen's Park, Ontario Provincial Government   \n",
       "\n",
       "    Latitude  Longitude  \n",
       "0  43.753259 -79.329656  \n",
       "1  43.725882 -79.315572  \n",
       "2  43.654260 -79.360636  \n",
       "3  43.718518 -79.464763  \n",
       "4  43.662301 -79.389494  "
      ]
     },
     "execution_count": 2,
     "metadata": {},
     "output_type": "execute_result"
    }
   ],
   "source": [
    "df=pd.read_csv('data_toronto.csv')\n",
    "df.head()"
   ]
  },
  {
   "cell_type": "code",
   "execution_count": 3,
   "metadata": {},
   "outputs": [
    {
     "data": {
      "text/html": [
       "<div>\n",
       "<style scoped>\n",
       "    .dataframe tbody tr th:only-of-type {\n",
       "        vertical-align: middle;\n",
       "    }\n",
       "\n",
       "    .dataframe tbody tr th {\n",
       "        vertical-align: top;\n",
       "    }\n",
       "\n",
       "    .dataframe thead th {\n",
       "        text-align: right;\n",
       "    }\n",
       "</style>\n",
       "<table border=\"1\" class=\"dataframe\">\n",
       "  <thead>\n",
       "    <tr style=\"text-align: right;\">\n",
       "      <th></th>\n",
       "      <th>Postal Code</th>\n",
       "      <th>Neighborhood</th>\n",
       "      <th>Latitude</th>\n",
       "      <th>Longitude</th>\n",
       "    </tr>\n",
       "    <tr>\n",
       "      <th>Borough</th>\n",
       "      <th></th>\n",
       "      <th></th>\n",
       "      <th></th>\n",
       "      <th></th>\n",
       "    </tr>\n",
       "  </thead>\n",
       "  <tbody>\n",
       "    <tr>\n",
       "      <th>Central Toronto</th>\n",
       "      <td>9</td>\n",
       "      <td>9</td>\n",
       "      <td>9</td>\n",
       "      <td>9</td>\n",
       "    </tr>\n",
       "    <tr>\n",
       "      <th>Downtown Toronto</th>\n",
       "      <td>19</td>\n",
       "      <td>19</td>\n",
       "      <td>19</td>\n",
       "      <td>19</td>\n",
       "    </tr>\n",
       "    <tr>\n",
       "      <th>East Toronto</th>\n",
       "      <td>5</td>\n",
       "      <td>5</td>\n",
       "      <td>5</td>\n",
       "      <td>5</td>\n",
       "    </tr>\n",
       "    <tr>\n",
       "      <th>East York</th>\n",
       "      <td>5</td>\n",
       "      <td>5</td>\n",
       "      <td>5</td>\n",
       "      <td>5</td>\n",
       "    </tr>\n",
       "    <tr>\n",
       "      <th>Etobicoke</th>\n",
       "      <td>12</td>\n",
       "      <td>12</td>\n",
       "      <td>12</td>\n",
       "      <td>12</td>\n",
       "    </tr>\n",
       "    <tr>\n",
       "      <th>Mississauga</th>\n",
       "      <td>1</td>\n",
       "      <td>1</td>\n",
       "      <td>1</td>\n",
       "      <td>1</td>\n",
       "    </tr>\n",
       "    <tr>\n",
       "      <th>North York</th>\n",
       "      <td>24</td>\n",
       "      <td>24</td>\n",
       "      <td>24</td>\n",
       "      <td>24</td>\n",
       "    </tr>\n",
       "    <tr>\n",
       "      <th>Scarborough</th>\n",
       "      <td>17</td>\n",
       "      <td>17</td>\n",
       "      <td>17</td>\n",
       "      <td>17</td>\n",
       "    </tr>\n",
       "    <tr>\n",
       "      <th>West Toronto</th>\n",
       "      <td>6</td>\n",
       "      <td>6</td>\n",
       "      <td>6</td>\n",
       "      <td>6</td>\n",
       "    </tr>\n",
       "    <tr>\n",
       "      <th>York</th>\n",
       "      <td>5</td>\n",
       "      <td>5</td>\n",
       "      <td>5</td>\n",
       "      <td>5</td>\n",
       "    </tr>\n",
       "  </tbody>\n",
       "</table>\n",
       "</div>"
      ],
      "text/plain": [
       "                  Postal Code  Neighborhood  Latitude  Longitude\n",
       "Borough                                                         \n",
       "Central Toronto             9             9         9          9\n",
       "Downtown Toronto           19            19        19         19\n",
       "East Toronto                5             5         5          5\n",
       "East York                   5             5         5          5\n",
       "Etobicoke                  12            12        12         12\n",
       "Mississauga                 1             1         1          1\n",
       "North York                 24            24        24         24\n",
       "Scarborough                17            17        17         17\n",
       "West Toronto                6             6         6          6\n",
       "York                        5             5         5          5"
      ]
     },
     "execution_count": 3,
     "metadata": {},
     "output_type": "execute_result"
    }
   ],
   "source": [
    "df.groupby('Borough').count()"
   ]
  },
  {
   "cell_type": "markdown",
   "metadata": {},
   "source": [
    "North York has highest number of neighborhood while Mississauga has least."
   ]
  },
  {
   "cell_type": "code",
   "execution_count": 4,
   "metadata": {},
   "outputs": [],
   "source": [
    "def get_location(address):\n",
    "    geolocator = Nominatim(user_agent=\"ny_explorer\")\n",
    "    location = geolocator.geocode(address)\n",
    "    latitude = location.latitude\n",
    "    longitude = location.longitude\n",
    "    return latitude,longitude\n"
   ]
  },
  {
   "cell_type": "code",
   "execution_count": 5,
   "metadata": {},
   "outputs": [],
   "source": [
    "CLIENT_ID = 'VT5DTAMJ3XFEBH5LMV441H5FYK4DWQ4IJ1RQ2H5RNP1FHLQY' \n",
    "CLIENT_SECRET = 'EQEYMPHSHBO1ADOZVKKDHRLN4HFW2P2BKKF1S24AZSTDMNLY' \n",
    "VERSION = '20180605' "
   ]
  },
  {
   "cell_type": "code",
   "execution_count": 6,
   "metadata": {},
   "outputs": [],
   "source": [
    "def get_neighborhood(borough):\n",
    "    df_neigh=df[df['Borough']==borough]\n",
    "    return df_neigh"
   ]
  },
  {
   "cell_type": "markdown",
   "metadata": {},
   "source": [
    "Split data and make dataframe for each borough"
   ]
  },
  {
   "cell_type": "code",
   "execution_count": 7,
   "metadata": {},
   "outputs": [],
   "source": [
    "north_york=get_neighborhood('North York').reset_index()"
   ]
  },
  {
   "cell_type": "code",
   "execution_count": 8,
   "metadata": {},
   "outputs": [],
   "source": [
    "downtown_toronto=get_neighborhood('Downtown Toronto').reset_index()"
   ]
  },
  {
   "cell_type": "code",
   "execution_count": 9,
   "metadata": {},
   "outputs": [],
   "source": [
    "scarborough=get_neighborhood('Scarborough').reset_index()"
   ]
  },
  {
   "cell_type": "code",
   "execution_count": 10,
   "metadata": {},
   "outputs": [],
   "source": [
    "etobicoke=get_neighborhood('Etobicoke').reset_index()"
   ]
  },
  {
   "cell_type": "code",
   "execution_count": 11,
   "metadata": {},
   "outputs": [],
   "source": [
    "central_toronto=get_neighborhood('Central Toronto').reset_index()"
   ]
  },
  {
   "cell_type": "code",
   "execution_count": 12,
   "metadata": {},
   "outputs": [],
   "source": [
    "west_toronto=get_neighborhood('West Toronto').reset_index()"
   ]
  },
  {
   "cell_type": "code",
   "execution_count": 13,
   "metadata": {},
   "outputs": [],
   "source": [
    "east_toronto=get_neighborhood('East Toronto').reset_index()"
   ]
  },
  {
   "cell_type": "code",
   "execution_count": 14,
   "metadata": {},
   "outputs": [],
   "source": [
    "east_york=get_neighborhood('East York').reset_index()"
   ]
  },
  {
   "cell_type": "code",
   "execution_count": 15,
   "metadata": {},
   "outputs": [],
   "source": [
    "york=get_neighborhood('York').reset_index()"
   ]
  },
  {
   "cell_type": "code",
   "execution_count": 16,
   "metadata": {},
   "outputs": [],
   "source": [
    "mississauga=get_neighborhood('Mississauga').reset_index()"
   ]
  },
  {
   "cell_type": "code",
   "execution_count": 17,
   "metadata": {},
   "outputs": [],
   "source": [
    "def get_loc(addr):\n",
    "    lat=addr.loc[0,'Latitude']\n",
    "    lng=addr.loc[0,'Longitude']\n",
    "    name=addr.loc[0,'Neighborhood']\n",
    "    return lat,lng,name"
   ]
  },
  {
   "cell_type": "code",
   "execution_count": 18,
   "metadata": {},
   "outputs": [],
   "source": [
    "\n",
    "LIMIT = 100 # limit of number of venues returned by Foursquare API\n",
    "\n",
    "radius = 500 # define radius"
   ]
  },
  {
   "cell_type": "markdown",
   "metadata": {},
   "source": [
    "Let's create a function to find nearby venues in all the neighborhood. From the previous module, we know that all the information is in the **items** key."
   ]
  },
  {
   "cell_type": "code",
   "execution_count": 19,
   "metadata": {},
   "outputs": [],
   "source": [
    "def getNearbyVenues(names, latitudes, longitudes, radius=500):\n",
    "    \n",
    "    venues_list=[]\n",
    "    venue_cat=[]\n",
    "    for name, lat, lng in zip(names, latitudes, longitudes):\n",
    "                   \n",
    "        # create the API request URL\n",
    "        url = 'https://api.foursquare.com/v2/venues/explore?&client_id={}&client_secret={}&v={}&ll={},{}&radius={}&limit={}'.format(\n",
    "            CLIENT_ID, \n",
    "            CLIENT_SECRET, \n",
    "            VERSION, \n",
    "            lat, \n",
    "            lng, \n",
    "            radius, \n",
    "            LIMIT)\n",
    "            \n",
    "        # make the GET request\n",
    "        results = requests.get(url).json()[\"response\"]['groups'][0]['items']\n",
    "        \n",
    "        # return only relevant information for each nearby venue\n",
    "        for v in results:\n",
    "            try:  \n",
    "                v_name=v['venue']['name'], \n",
    "                v_lat=v['venue']['location']['lat'], \n",
    "                v_lng=v['venue']['location']['lng'],  \n",
    "                v_cat=v['venue']['categories'][0]['name']\n",
    "                venue_cat.append(v_cat)\n",
    "                venues_list.append([name,lat,lng,v_name,v_lat,v_lng,v_cat])\n",
    "            except KeyError:\n",
    "                pass\n",
    "        \n",
    "        column = ['Neighborhood', \n",
    "                  'Neighborhood Latitude', \n",
    "                  'Neighborhood Longitude', \n",
    "                  'Venue', \n",
    "                  'Venue Latitude', \n",
    "                  'Venue Longitude', \n",
    "                  'Venue Category']\n",
    "        nearby_venues=pd.DataFrame(venues_list,columns=column)\n",
    "              \n",
    "    return nearby_venues,venue_cat"
   ]
  },
  {
   "cell_type": "markdown",
   "metadata": {},
   "source": [
    "Now get nearby venues in the form of dataframe and venues category for all neighborhoods in each borough"
   ]
  },
  {
   "cell_type": "code",
   "execution_count": 20,
   "metadata": {},
   "outputs": [],
   "source": [
    "north_york_venues,north_york_cat = getNearbyVenues(names=north_york['Neighborhood'],\n",
    "                                   latitudes=north_york['Latitude'],\n",
    "                                   longitudes=north_york['Longitude']\n",
    "                                  )"
   ]
  },
  {
   "cell_type": "code",
   "execution_count": 21,
   "metadata": {},
   "outputs": [],
   "source": [
    "downtown_toronto_venues,downtown_toronto_cat = getNearbyVenues(names=downtown_toronto['Neighborhood'],\n",
    "                                   latitudes=downtown_toronto['Latitude'],\n",
    "                                   longitudes=downtown_toronto['Longitude']\n",
    "                                  )"
   ]
  },
  {
   "cell_type": "code",
   "execution_count": 22,
   "metadata": {},
   "outputs": [],
   "source": [
    "scarborough_venues,scarborough_cat = getNearbyVenues(names=scarborough['Neighborhood'],\n",
    "                                   latitudes=scarborough['Latitude'],\n",
    "                                   longitudes=scarborough['Longitude']\n",
    "                                  )"
   ]
  },
  {
   "cell_type": "code",
   "execution_count": 23,
   "metadata": {},
   "outputs": [],
   "source": [
    "etobicoke_venues,etobicoke_cat = getNearbyVenues(names=etobicoke['Neighborhood'],\n",
    "                                   latitudes=etobicoke['Latitude'],\n",
    "                                   longitudes=etobicoke['Longitude']\n",
    "                                  )"
   ]
  },
  {
   "cell_type": "code",
   "execution_count": 24,
   "metadata": {},
   "outputs": [],
   "source": [
    "central_toronto_venues,central_toronto_cat = getNearbyVenues(names=central_toronto['Neighborhood'],\n",
    "                                   latitudes=central_toronto['Latitude'],\n",
    "                                   longitudes=central_toronto['Longitude']\n",
    "                                  )"
   ]
  },
  {
   "cell_type": "code",
   "execution_count": 25,
   "metadata": {},
   "outputs": [],
   "source": [
    "west_toronto_venues,west_toronto_cat = getNearbyVenues(names=west_toronto['Neighborhood'],\n",
    "                                   latitudes=west_toronto['Latitude'],\n",
    "                                   longitudes=west_toronto['Longitude']\n",
    "                                  )"
   ]
  },
  {
   "cell_type": "code",
   "execution_count": 26,
   "metadata": {},
   "outputs": [],
   "source": [
    "east_toronto_venues,east_toronto_cat = getNearbyVenues(names=east_toronto['Neighborhood'],\n",
    "                                   latitudes=east_toronto['Latitude'],\n",
    "                                   longitudes=east_toronto['Longitude']\n",
    "                                  )"
   ]
  },
  {
   "cell_type": "code",
   "execution_count": 27,
   "metadata": {},
   "outputs": [],
   "source": [
    "east_york_venues,east_york_cat = getNearbyVenues(names=east_york['Neighborhood'],\n",
    "                                   latitudes=east_york['Latitude'],\n",
    "                                   longitudes=east_york['Longitude']\n",
    "                                  )"
   ]
  },
  {
   "cell_type": "code",
   "execution_count": 28,
   "metadata": {},
   "outputs": [],
   "source": [
    "mississauga_venues,mississauga_cat = getNearbyVenues(names=mississauga['Neighborhood'],\n",
    "                                   latitudes=mississauga['Latitude'],\n",
    "                                   longitudes=mississauga['Longitude']\n",
    "                                  )"
   ]
  },
  {
   "cell_type": "code",
   "execution_count": 29,
   "metadata": {},
   "outputs": [],
   "source": [
    "york_venues,york_cat = getNearbyVenues(names=york['Neighborhood'],\n",
    "                                   latitudes=york['Latitude'],\n",
    "                                   longitudes=york['Longitude']\n",
    "                                  )"
   ]
  },
  {
   "cell_type": "markdown",
   "metadata": {},
   "source": [
    "Find all categories of venue in the city of Toronto."
   ]
  },
  {
   "cell_type": "code",
   "execution_count": 30,
   "metadata": {},
   "outputs": [
    {
     "data": {
      "text/plain": [
       "272"
      ]
     },
     "execution_count": 30,
     "metadata": {},
     "output_type": "execute_result"
    }
   ],
   "source": [
    "all_venue=set(mississauga_cat+york_cat+east_york_cat+east_toronto_cat+west_toronto_cat+central_toronto_cat+etobicoke_cat+scarborough_cat+downtown_toronto_cat+north_york_cat)\n",
    "len(all_venue)"
   ]
  },
  {
   "cell_type": "markdown",
   "metadata": {},
   "source": [
    "Define a function and find the number of venues not present in boroughs"
   ]
  },
  {
   "cell_type": "code",
   "execution_count": 31,
   "metadata": {},
   "outputs": [],
   "source": [
    "def Diff(li1, li2): \n",
    "    return (list(set(li1) - set(li2))) "
   ]
  },
  {
   "cell_type": "code",
   "execution_count": 32,
   "metadata": {},
   "outputs": [
    {
     "data": {
      "text/plain": [
       "167"
      ]
     },
     "execution_count": 32,
     "metadata": {},
     "output_type": "execute_result"
    }
   ],
   "source": [
    "north_york_n=Diff(all_venue,north_york_cat)\n",
    "len(north_york_n)"
   ]
  },
  {
   "cell_type": "code",
   "execution_count": 33,
   "metadata": {},
   "outputs": [
    {
     "data": {
      "text/plain": [
       "254"
      ]
     },
     "execution_count": 33,
     "metadata": {},
     "output_type": "execute_result"
    }
   ],
   "source": [
    "york_n=Diff(all_venue,york_cat)\n",
    "len(york_n)"
   ]
  },
  {
   "cell_type": "code",
   "execution_count": 34,
   "metadata": {},
   "outputs": [
    {
     "data": {
      "text/plain": [
       "261"
      ]
     },
     "execution_count": 34,
     "metadata": {},
     "output_type": "execute_result"
    }
   ],
   "source": [
    "mississauga_n=Diff(all_venue,mississauga_cat)\n",
    "len(mississauga_n)"
   ]
  },
  {
   "cell_type": "code",
   "execution_count": 35,
   "metadata": {},
   "outputs": [
    {
     "data": {
      "text/plain": [
       "226"
      ]
     },
     "execution_count": 35,
     "metadata": {},
     "output_type": "execute_result"
    }
   ],
   "source": [
    "east_york_n=Diff(all_venue,east_york_cat)\n",
    "len(east_york_n)"
   ]
  },
  {
   "cell_type": "code",
   "execution_count": 36,
   "metadata": {},
   "outputs": [
    {
     "data": {
      "text/plain": [
       "205"
      ]
     },
     "execution_count": 36,
     "metadata": {},
     "output_type": "execute_result"
    }
   ],
   "source": [
    "east_toronto_n=Diff(all_venue,east_toronto_cat)\n",
    "len(east_toronto_n)"
   ]
  },
  {
   "cell_type": "code",
   "execution_count": 37,
   "metadata": {},
   "outputs": [
    {
     "data": {
      "text/plain": [
       "193"
      ]
     },
     "execution_count": 37,
     "metadata": {},
     "output_type": "execute_result"
    }
   ],
   "source": [
    "west_toronto_n=Diff(all_venue,west_toronto_cat)\n",
    "len(west_toronto_n)"
   ]
  },
  {
   "cell_type": "code",
   "execution_count": 38,
   "metadata": {},
   "outputs": [
    {
     "data": {
      "text/plain": [
       "193"
      ]
     },
     "execution_count": 38,
     "metadata": {},
     "output_type": "execute_result"
    }
   ],
   "source": [
    "central_toronto_n=Diff(all_venue,central_toronto_cat)\n",
    "len(west_toronto_n)"
   ]
  },
  {
   "cell_type": "code",
   "execution_count": 39,
   "metadata": {},
   "outputs": [
    {
     "data": {
      "text/plain": [
       "63"
      ]
     },
     "execution_count": 39,
     "metadata": {},
     "output_type": "execute_result"
    }
   ],
   "source": [
    "downtown_toronto_n=Diff(all_venue,downtown_toronto_cat)\n",
    "len(downtown_toronto_n)"
   ]
  },
  {
   "cell_type": "code",
   "execution_count": 40,
   "metadata": {},
   "outputs": [
    {
     "data": {
      "text/plain": [
       "233"
      ]
     },
     "execution_count": 40,
     "metadata": {},
     "output_type": "execute_result"
    }
   ],
   "source": [
    "etobicoke_n=Diff(all_venue,etobicoke_cat)\n",
    "len(etobicoke_n)"
   ]
  },
  {
   "cell_type": "code",
   "execution_count": 41,
   "metadata": {},
   "outputs": [
    {
     "data": {
      "text/plain": [
       "215"
      ]
     },
     "execution_count": 41,
     "metadata": {},
     "output_type": "execute_result"
    }
   ],
   "source": [
    "scarborough_n=Diff(all_venue,scarborough_cat)\n",
    "len(scarborough_n)"
   ]
  },
  {
   "cell_type": "code",
   "execution_count": 42,
   "metadata": {},
   "outputs": [],
   "source": [
    "def sum_diff(a1,a2,a3,a4,a5,a6,a7,a8):\n",
    "    return (set(a1).intersection(set(a2),set(a3),set(a4),set(a5),set(a6),set(a7),set(a8)))"
   ]
  },
  {
   "cell_type": "code",
   "execution_count": 43,
   "metadata": {},
   "outputs": [],
   "source": [
    "s=sum_diff(north_york_n,downtown_toronto_n,east_york_n,east_toronto_n,west_toronto_n,central_toronto_n,etobicoke_n,scarborough_n)\n"
   ]
  },
  {
   "cell_type": "code",
   "execution_count": 44,
   "metadata": {},
   "outputs": [
    {
     "data": {
      "text/plain": [
       "{'Field'}"
      ]
     },
     "execution_count": 44,
     "metadata": {},
     "output_type": "execute_result"
    }
   ],
   "source": [
    "s"
   ]
  },
  {
   "cell_type": "markdown",
   "metadata": {},
   "source": [
    "This results shows the places not present in most of boroughs."
   ]
  },
  {
   "cell_type": "markdown",
   "metadata": {},
   "source": [
    "####  Analyze Each Neighborhood"
   ]
  },
  {
   "cell_type": "code",
   "execution_count": 45,
   "metadata": {},
   "outputs": [],
   "source": [
    "def analyze_neighborhood(neighborhood):\n",
    "    neighborhood_en = pd.get_dummies(neighborhood[['Venue Category']], prefix=\"\", prefix_sep=\"\")\n",
    "    neighborhood_en['Neighborhood'] = neighborhood['Neighborhood'] \n",
    "    neighborhood_en=neighborhood_en.set_index('Neighborhood').reset_index()# add neighborhood column back to dataframe\n",
    "    neighborhood_en_grp = neighborhood_en.groupby('Neighborhood').mean().reset_index()\n",
    "    \n",
    "    #get top 5 most common venues\n",
    "    num_top_venues = 5\n",
    "\n",
    "    for hood in neighborhood_en_grp['Neighborhood']:\n",
    "        print(\"----\"+hood+\"----\")\n",
    "        temp = neighborhood_en_grp[neighborhood_en_grp['Neighborhood'] == hood].T.reset_index()\n",
    "        temp.columns = ['venue','freq']\n",
    "        temp = temp.iloc[1:]\n",
    "        temp['freq'] = temp['freq'].astype(float)\n",
    "        temp = temp.round({'freq': 2})\n",
    "        print(temp.sort_values('freq', ascending=False).reset_index(drop=True).head(num_top_venues))\n",
    "        print('\\n')"
   ]
  },
  {
   "cell_type": "markdown",
   "metadata": {},
   "source": [
    "Let's print each neighborhood along with the top 5 most common venues. Common venues will help in deciding market and trade."
   ]
  },
  {
   "cell_type": "code",
   "execution_count": 46,
   "metadata": {},
   "outputs": [
    {
     "name": "stdout",
     "output_type": "stream",
     "text": [
      "----Canada Post Gateway Processing Centre----\n",
      "                 venue  freq\n",
      "0          Coffee Shop  0.15\n",
      "1                Hotel  0.15\n",
      "2  American Restaurant  0.08\n",
      "3        Burrito Place  0.08\n",
      "4  Fried Chicken Joint  0.08\n",
      "\n",
      "\n"
     ]
    }
   ],
   "source": [
    "#Mississauga has only 1 neighborhood\n",
    "analyze_neighborhood(mississauga_venues)"
   ]
  },
  {
   "cell_type": "markdown",
   "metadata": {},
   "source": [
    "Since Mississauga has only 1 neighborhood, it has potential for large scale development. "
   ]
  },
  {
   "cell_type": "code",
   "execution_count": 47,
   "metadata": {},
   "outputs": [
    {
     "name": "stdout",
     "output_type": "stream",
     "text": [
      "----Caledonia-Fairbanks----\n",
      "           venue  freq\n",
      "0            Bar   0.2\n",
      "1           Park   0.2\n",
      "2           Pool   0.2\n",
      "3         Market   0.2\n",
      "4  Women's Store   0.2\n",
      "\n",
      "\n",
      "----Del Ray, Mount Dennis, Keelsdale and Silverthorn----\n",
      "                  venue  freq\n",
      "0  Caribbean Restaurant  0.17\n",
      "1          Skating Rink  0.17\n",
      "2  Fast Food Restaurant  0.17\n",
      "3        Sandwich Place  0.17\n",
      "4   Fried Chicken Joint  0.17\n",
      "\n",
      "\n",
      "----Humewood-Cedarvale----\n",
      "          venue  freq\n",
      "0         Trail  0.25\n",
      "1       Dog Run  0.25\n",
      "2         Field  0.25\n",
      "3  Hockey Arena  0.25\n",
      "4           Bar  0.00\n",
      "\n",
      "\n",
      "----Runnymede, The Junction North----\n",
      "                  venue  freq\n",
      "0  Caribbean Restaurant  0.25\n",
      "1     Convenience Store  0.25\n",
      "2           Pizza Place  0.25\n",
      "3        Breakfast Spot  0.25\n",
      "4                   Bar  0.00\n",
      "\n",
      "\n",
      "----Weston----\n",
      "            venue  freq\n",
      "0            Park   1.0\n",
      "1             Bar   0.0\n",
      "2  Breakfast Spot   0.0\n",
      "3           Trail   0.0\n",
      "4    Skating Rink   0.0\n",
      "\n",
      "\n"
     ]
    }
   ],
   "source": [
    "analyze_neighborhood(york_venues)"
   ]
  },
  {
   "cell_type": "markdown",
   "metadata": {},
   "source": [
    "York has 5 neighborhood with 0 frequency of most spots like Bar or any kind of restaurants."
   ]
  },
  {
   "cell_type": "code",
   "execution_count": 48,
   "metadata": {},
   "outputs": [
    {
     "name": "stdout",
     "output_type": "stream",
     "text": [
      "----Berczy Park----\n",
      "          venue  freq\n",
      "0   Coffee Shop  0.09\n",
      "1  Cocktail Bar  0.05\n",
      "2          Café  0.04\n",
      "3      Beer Bar  0.04\n",
      "4   Cheese Shop  0.04\n",
      "\n",
      "\n",
      "----CN Tower, King and Spadina, Railway Lands, Harbourfront West, Bathurst Quay, South Niagara, Island airport----\n",
      "              venue  freq\n",
      "0    Airport Lounge  0.12\n",
      "1   Airport Service  0.12\n",
      "2  Airport Terminal  0.12\n",
      "3   Harbor / Marina  0.06\n",
      "4               Bar  0.06\n",
      "\n",
      "\n",
      "----Central Bay Street----\n",
      "                 venue  freq\n",
      "0          Coffee Shop  0.16\n",
      "1   Italian Restaurant  0.06\n",
      "2  Japanese Restaurant  0.06\n",
      "3       Sandwich Place  0.06\n",
      "4                 Café  0.04\n",
      "\n",
      "\n",
      "----Christie----\n",
      "           venue  freq\n",
      "0  Grocery Store  0.25\n",
      "1           Café  0.19\n",
      "2           Park  0.12\n",
      "3     Baby Store  0.06\n",
      "4    Candy Store  0.06\n",
      "\n",
      "\n",
      "----Church and Wellesley----\n",
      "                 venue  freq\n",
      "0          Coffee Shop  0.08\n",
      "1     Sushi Restaurant  0.06\n",
      "2  Japanese Restaurant  0.05\n",
      "3           Restaurant  0.04\n",
      "4              Gay Bar  0.04\n",
      "\n",
      "\n",
      "----Commerce Court, Victoria Hotel----\n",
      "                 venue  freq\n",
      "0          Coffee Shop  0.12\n",
      "1           Restaurant  0.07\n",
      "2                 Café  0.07\n",
      "3                Hotel  0.06\n",
      "4  American Restaurant  0.04\n",
      "\n",
      "\n",
      "----First Canadian Place, Underground city----\n",
      "         venue  freq\n",
      "0  Coffee Shop  0.10\n",
      "1         Café  0.08\n",
      "2   Restaurant  0.05\n",
      "3        Hotel  0.05\n",
      "4          Gym  0.04\n",
      "\n",
      "\n",
      "----Garden District, Ryerson----\n",
      "                       venue  freq\n",
      "0             Clothing Store  0.09\n",
      "1                Coffee Shop  0.07\n",
      "2             Cosmetics Shop  0.03\n",
      "3            Bubble Tea Shop  0.03\n",
      "4  Middle Eastern Restaurant  0.03\n",
      "\n",
      "\n",
      "----Harbourfront East, Union Station, Toronto Islands----\n",
      "                venue  freq\n",
      "0         Coffee Shop  0.13\n",
      "1            Aquarium  0.05\n",
      "2                Café  0.04\n",
      "3               Hotel  0.04\n",
      "4  Italian Restaurant  0.03\n",
      "\n",
      "\n",
      "----Kensington Market, Chinatown, Grange Park----\n",
      "                           venue  freq\n",
      "0                           Café  0.08\n",
      "1                    Coffee Shop  0.05\n",
      "2  Vegetarian / Vegan Restaurant  0.05\n",
      "3             Mexican Restaurant  0.05\n",
      "4                         Bakery  0.05\n",
      "\n",
      "\n",
      "----Queen's Park, Ontario Provincial Government----\n",
      "              venue  freq\n",
      "0       Coffee Shop  0.24\n",
      "1             Diner  0.06\n",
      "2  Sushi Restaurant  0.06\n",
      "3       Yoga Studio  0.03\n",
      "4              Bank  0.03\n",
      "\n",
      "\n",
      "----Regent Park, Harbourfront----\n",
      "         venue  freq\n",
      "0  Coffee Shop  0.18\n",
      "1          Pub  0.07\n",
      "2         Park  0.07\n",
      "3       Bakery  0.07\n",
      "4      Theater  0.04\n",
      "\n",
      "\n",
      "----Richmond, Adelaide, King----\n",
      "         venue  freq\n",
      "0  Coffee Shop  0.11\n",
      "1         Café  0.05\n",
      "2   Restaurant  0.05\n",
      "3          Gym  0.04\n",
      "4        Hotel  0.03\n",
      "\n",
      "\n",
      "----Rosedale----\n",
      "               venue  freq\n",
      "0               Park  0.50\n",
      "1         Playground  0.25\n",
      "2              Trail  0.25\n",
      "3  Afghan Restaurant  0.00\n",
      "4             Museum  0.00\n",
      "\n",
      "\n",
      "----St. James Town----\n",
      "                 venue  freq\n",
      "0          Coffee Shop  0.06\n",
      "1                 Café  0.06\n",
      "2            Gastropub  0.04\n",
      "3           Restaurant  0.04\n",
      "4  American Restaurant  0.04\n",
      "\n",
      "\n",
      "----St. James Town, Cabbagetown----\n",
      "         venue  freq\n",
      "0         Park  0.07\n",
      "1  Coffee Shop  0.07\n",
      "2       Bakery  0.07\n",
      "3         Café  0.07\n",
      "4          Pub  0.04\n",
      "\n",
      "\n",
      "----Stn A PO Boxes----\n",
      "                venue  freq\n",
      "0         Coffee Shop  0.10\n",
      "1                Café  0.04\n",
      "2  Seafood Restaurant  0.04\n",
      "3          Restaurant  0.03\n",
      "4        Cocktail Bar  0.03\n",
      "\n",
      "\n",
      "----Toronto Dominion Centre, Design Exchange----\n",
      "         venue  freq\n",
      "0  Coffee Shop  0.10\n",
      "1        Hotel  0.08\n",
      "2         Café  0.07\n",
      "3   Restaurant  0.04\n",
      "4  Salad Place  0.03\n",
      "\n",
      "\n",
      "----University of Toronto, Harbord----\n",
      "                 venue  freq\n",
      "0                 Café  0.14\n",
      "1            Bookstore  0.08\n",
      "2   Italian Restaurant  0.05\n",
      "3  Japanese Restaurant  0.05\n",
      "4                  Bar  0.05\n",
      "\n",
      "\n"
     ]
    }
   ],
   "source": [
    "analyze_neighborhood(downtown_toronto_venues)"
   ]
  },
  {
   "cell_type": "markdown",
   "metadata": {},
   "source": [
    "Downtown Toronto has many commercial and entertainment sites. It can be good spot for apartment or daily wage workers."
   ]
  },
  {
   "cell_type": "markdown",
   "metadata": {},
   "source": [
    "Suppose a person want to look for an apartment or restaurant or gym near university of Toronto, then he/she can search for that."
   ]
  },
  {
   "cell_type": "code",
   "execution_count": 49,
   "metadata": {},
   "outputs": [
    {
     "data": {
      "text/html": [
       "<div>\n",
       "<style scoped>\n",
       "    .dataframe tbody tr th:only-of-type {\n",
       "        vertical-align: middle;\n",
       "    }\n",
       "\n",
       "    .dataframe tbody tr th {\n",
       "        vertical-align: top;\n",
       "    }\n",
       "\n",
       "    .dataframe thead th {\n",
       "        text-align: right;\n",
       "    }\n",
       "</style>\n",
       "<table border=\"1\" class=\"dataframe\">\n",
       "  <thead>\n",
       "    <tr style=\"text-align: right;\">\n",
       "      <th></th>\n",
       "      <th>Neighborhood</th>\n",
       "      <th>Neighborhood Latitude</th>\n",
       "      <th>Neighborhood Longitude</th>\n",
       "      <th>Venue</th>\n",
       "      <th>Venue Address</th>\n",
       "      <th>Venue Latitude</th>\n",
       "      <th>Venue Longitude</th>\n",
       "      <th>Venue Category</th>\n",
       "    </tr>\n",
       "  </thead>\n",
       "  <tbody>\n",
       "    <tr>\n",
       "      <th>0</th>\n",
       "      <td>University of toronto</td>\n",
       "      <td>43.663462</td>\n",
       "      <td>-79.39776</td>\n",
       "      <td>Innis College Residence Gym</td>\n",
       "      <td>111 St. George St</td>\n",
       "      <td>43.66573782314874</td>\n",
       "      <td>-79.3983588615895</td>\n",
       "      <td>Gym</td>\n",
       "    </tr>\n",
       "    <tr>\n",
       "      <th>1</th>\n",
       "      <td>University of toronto</td>\n",
       "      <td>43.663462</td>\n",
       "      <td>-79.39776</td>\n",
       "      <td>Hart House Gym</td>\n",
       "      <td>7 Hart House Cir.</td>\n",
       "      <td>43.66417202442517</td>\n",
       "      <td>-79.39488839857401</td>\n",
       "      <td>Gym</td>\n",
       "    </tr>\n",
       "    <tr>\n",
       "      <th>2</th>\n",
       "      <td>University of toronto</td>\n",
       "      <td>43.663462</td>\n",
       "      <td>-79.39776</td>\n",
       "      <td>UTS Gym</td>\n",
       "      <td>271 Bloor Street West</td>\n",
       "      <td>43.666427363551094</td>\n",
       "      <td>-79.40322947083064</td>\n",
       "      <td>High School</td>\n",
       "    </tr>\n",
       "  </tbody>\n",
       "</table>\n",
       "</div>"
      ],
      "text/plain": [
       "            Neighborhood  Neighborhood Latitude  Neighborhood Longitude  \\\n",
       "0  University of toronto              43.663462               -79.39776   \n",
       "1  University of toronto              43.663462               -79.39776   \n",
       "2  University of toronto              43.663462               -79.39776   \n",
       "\n",
       "                         Venue          Venue Address      Venue Latitude  \\\n",
       "0  Innis College Residence Gym      111 St. George St   43.66573782314874   \n",
       "1               Hart House Gym      7 Hart House Cir.   43.66417202442517   \n",
       "2                      UTS Gym  271 Bloor Street West  43.666427363551094   \n",
       "\n",
       "      Venue Longitude Venue Category  \n",
       "0   -79.3983588615895            Gym  \n",
       "1  -79.39488839857401            Gym  \n",
       "2  -79.40322947083064    High School  "
      ]
     },
     "execution_count": 49,
     "metadata": {},
     "output_type": "execute_result"
    }
   ],
   "source": [
    "search_query = 'gym'\n",
    "radius = 500\n",
    "LIMIT=100\n",
    "name='University of toronto'\n",
    "lat,lng=get_location('University of toronto')\n",
    "\n",
    "url = 'https://api.foursquare.com/v2/venues/search?client_id={}&client_secret={}&ll={},{}&v={}&query={}&radius={}&limit={}'.format(CLIENT_ID, CLIENT_SECRET, lat, lng, VERSION, search_query, radius, LIMIT)\n",
    "venues_list=[]\n",
    "results = requests.get(url).json()\n",
    "venues = results['response']['venues']\n",
    "\n",
    "for v in venues:\n",
    "        try:  \n",
    "                v_name=v['name'].rstrip(',')\n",
    "                v_addr=v['location']['address']\n",
    "                v_lat=str(v['location']['lat']).rstrip(',') \n",
    "                v_lng=str(v['location']['lng']).rstrip(',')  \n",
    "                v_cat=v['categories'][0]['name']\n",
    "                #venue_cat.append(v_cat)\n",
    "                venues_list.append([name,lat,lng,v_name,v_addr,v_lat,v_lng,v_cat])\n",
    "        except KeyError:\n",
    "                pass\n",
    "        \n",
    "        column = ['Neighborhood', \n",
    "                  'Neighborhood Latitude', \n",
    "                  'Neighborhood Longitude', \n",
    "                  'Venue',\n",
    "                  'Venue Address',\n",
    "                  'Venue Latitude', \n",
    "                  'Venue Longitude', \n",
    "                  'Venue Category']\n",
    "        search_result=pd.DataFrame(venues_list,columns=column)\n",
    "search_result.head()            \n"
   ]
  },
  {
   "cell_type": "code",
   "execution_count": 50,
   "metadata": {},
   "outputs": [
    {
     "data": {
      "text/html": [
       "<div style=\"width:100%;\"><div style=\"position:relative;width:100%;height:0;padding-bottom:60%;\"><span style=\"color:#565656\">Make this Notebook Trusted to load map: File -> Trust Notebook</span><iframe src=\"about:blank\" style=\"position:absolute;width:100%;height:100%;left:0;top:0;border:none !important;\" data-html=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 onload=\"this.contentDocument.open();this.contentDocument.write(atob(this.getAttribute('data-html')));this.contentDocument.close();\" allowfullscreen webkitallowfullscreen mozallowfullscreen></iframe></div></div>"
      ],
      "text/plain": [
       "<folium.folium.Map at 0x7f8f769b2438>"
      ]
     },
     "execution_count": 50,
     "metadata": {},
     "output_type": "execute_result"
    }
   ],
   "source": [
    "#let's visualize the search result\n",
    "lat,lng=get_location('University of Toronto, Toronto')\n",
    "map_m = folium.Map(location=[lat,lng], zoom_start=14)\n",
    "\n",
    "# add markers to map\n",
    "for lat, lng, label in zip(search_result['Venue Latitude'], search_result['Venue Longitude'], search_result['Venue']):\n",
    "    \n",
    "    label = folium.Popup(label, parse_html=True)\n",
    "    folium.features.CircleMarker(\n",
    "        [float(lat), float(lng)],\n",
    "        radius=4,\n",
    "        popup=label,\n",
    "        color='blue',\n",
    "        fill=True,\n",
    "        fill_color='#3186cc',\n",
    "        fill_opacity=0.7).add_to(map_m)  \n",
    "    \n",
    "map_m\n"
   ]
  }
 ],
 "metadata": {
  "kernelspec": {
   "display_name": "Python",
   "language": "python",
   "name": "conda-env-python-py"
  },
  "language_info": {
   "codemirror_mode": {
    "name": "ipython",
    "version": 3
   },
   "file_extension": ".py",
   "mimetype": "text/x-python",
   "name": "python",
   "nbconvert_exporter": "python",
   "pygments_lexer": "ipython3",
   "version": "3.6.10"
  }
 },
 "nbformat": 4,
 "nbformat_minor": 4
}
